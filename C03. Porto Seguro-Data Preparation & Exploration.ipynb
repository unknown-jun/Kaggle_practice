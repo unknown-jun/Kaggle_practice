{
 "cells": [
  {
   "cell_type": "markdown",
   "id": "79c14d2a",
   "metadata": {},
   "source": [
    "Porto Seguro는 브라질의 자동차 보험회사입니다.  \n",
    "본 캐글의 목적은 어떤 차주가 내년에 보험 청구를 할 확률을 예측하는 것입니다.  \n",
    "  \n",
    "데이터는 59만개의 훈련 데이터와 89만개의 테스트 데이터로 구성되어 있습니다.  \n",
    "테스트 데이터가 훈련 데이터보다 많습니다.  \n",
    "그리고 이 데이터는 다음과 같은 특징이 있습니다.  \n",
    "\n",
    "- 결측치값이 -1로 되어 있습니다.\n",
    "- Feature가 무엇을 뜻하는지 알수 없습니다.(비식별화 처리)  \n",
    "- feature들이 그루핑되어 있습니다.\n",
    "    - ind: 정수값 매핑\n",
    "    - reg: region(지역과 관련된 변수로 예상합니다.)\n",
    "    - car: 차에 관련한 변수\n",
    "    - calc: 실수값(어떤 값들이 임의로 계산된 값이라고 예상합니다.)\n",
    "- bin은 binary feature, cat은 categorical feature에 해당합니다.\n",
    "- 나머지는 연속형 변수 아니면 순서형 변수 입니다.\n",
    "- 타겟값은 이전에 보험 청구가 있었으면 1, 아니면 0으로 이루어져 있습니다."
   ]
  },
  {
   "cell_type": "code",
   "execution_count": 1,
   "id": "5697f9b1",
   "metadata": {},
   "outputs": [],
   "source": [
    "import pandas as pd\n",
    "import numpy as np\n",
    "import matplotlib.pyplot as plt\n",
    "import seaborn as sns\n",
    "\n",
    "from sklearn.impute import SimpleImputer\n",
    "from sklearn.preprocessing import PolynomialFeatures\n",
    "from sklearn.preprocessing import StandardScaler\n",
    "from sklearn.feature_selection import VarianceThreshold\n",
    "from sklearn.feature_selection import SelectFromModel\n",
    "from sklearn.utils import shuffle\n",
    "from sklearn.ensemble import RandomForestClassifier\n",
    "\n",
    "pd.set_option('display.max_columns',180)"
   ]
  },
  {
   "cell_type": "markdown",
   "id": "11ba8411",
   "metadata": {},
   "source": [
    "# 1. Loading data"
   ]
  },
  {
   "cell_type": "code",
   "execution_count": 2,
   "id": "926901ab",
   "metadata": {},
   "outputs": [],
   "source": [
    "train = pd.read_csv('../porto_train.csv')\n",
    "test = pd.read_csv('../porto_test.csv')"
   ]
  },
  {
   "cell_type": "code",
   "execution_count": 3,
   "id": "233c0014",
   "metadata": {},
   "outputs": [
    {
     "data": {
      "text/html": [
       "<div>\n",
       "<style scoped>\n",
       "    .dataframe tbody tr th:only-of-type {\n",
       "        vertical-align: middle;\n",
       "    }\n",
       "\n",
       "    .dataframe tbody tr th {\n",
       "        vertical-align: top;\n",
       "    }\n",
       "\n",
       "    .dataframe thead th {\n",
       "        text-align: right;\n",
       "    }\n",
       "</style>\n",
       "<table border=\"1\" class=\"dataframe\">\n",
       "  <thead>\n",
       "    <tr style=\"text-align: right;\">\n",
       "      <th></th>\n",
       "      <th>id</th>\n",
       "      <th>target</th>\n",
       "      <th>ps_ind_01</th>\n",
       "      <th>ps_ind_02_cat</th>\n",
       "      <th>ps_ind_03</th>\n",
       "      <th>ps_ind_04_cat</th>\n",
       "      <th>ps_ind_05_cat</th>\n",
       "      <th>ps_ind_06_bin</th>\n",
       "      <th>ps_ind_07_bin</th>\n",
       "      <th>ps_ind_08_bin</th>\n",
       "      <th>ps_ind_09_bin</th>\n",
       "      <th>ps_ind_10_bin</th>\n",
       "      <th>ps_ind_11_bin</th>\n",
       "      <th>ps_ind_12_bin</th>\n",
       "      <th>ps_ind_13_bin</th>\n",
       "      <th>ps_ind_14</th>\n",
       "      <th>ps_ind_15</th>\n",
       "      <th>ps_ind_16_bin</th>\n",
       "      <th>ps_ind_17_bin</th>\n",
       "      <th>ps_ind_18_bin</th>\n",
       "      <th>ps_reg_01</th>\n",
       "      <th>ps_reg_02</th>\n",
       "      <th>ps_reg_03</th>\n",
       "      <th>ps_car_01_cat</th>\n",
       "      <th>ps_car_02_cat</th>\n",
       "      <th>ps_car_03_cat</th>\n",
       "      <th>ps_car_04_cat</th>\n",
       "      <th>ps_car_05_cat</th>\n",
       "      <th>ps_car_06_cat</th>\n",
       "      <th>ps_car_07_cat</th>\n",
       "      <th>ps_car_08_cat</th>\n",
       "      <th>ps_car_09_cat</th>\n",
       "      <th>ps_car_10_cat</th>\n",
       "      <th>ps_car_11_cat</th>\n",
       "      <th>ps_car_11</th>\n",
       "      <th>ps_car_12</th>\n",
       "      <th>ps_car_13</th>\n",
       "      <th>ps_car_14</th>\n",
       "      <th>ps_car_15</th>\n",
       "      <th>ps_calc_01</th>\n",
       "      <th>ps_calc_02</th>\n",
       "      <th>ps_calc_03</th>\n",
       "      <th>ps_calc_04</th>\n",
       "      <th>ps_calc_05</th>\n",
       "      <th>ps_calc_06</th>\n",
       "      <th>ps_calc_07</th>\n",
       "      <th>ps_calc_08</th>\n",
       "      <th>ps_calc_09</th>\n",
       "      <th>ps_calc_10</th>\n",
       "      <th>ps_calc_11</th>\n",
       "      <th>ps_calc_12</th>\n",
       "      <th>ps_calc_13</th>\n",
       "      <th>ps_calc_14</th>\n",
       "      <th>ps_calc_15_bin</th>\n",
       "      <th>ps_calc_16_bin</th>\n",
       "      <th>ps_calc_17_bin</th>\n",
       "      <th>ps_calc_18_bin</th>\n",
       "      <th>ps_calc_19_bin</th>\n",
       "      <th>ps_calc_20_bin</th>\n",
       "    </tr>\n",
       "  </thead>\n",
       "  <tbody>\n",
       "    <tr>\n",
       "      <th>0</th>\n",
       "      <td>7</td>\n",
       "      <td>0</td>\n",
       "      <td>2</td>\n",
       "      <td>2</td>\n",
       "      <td>5</td>\n",
       "      <td>1</td>\n",
       "      <td>0</td>\n",
       "      <td>0</td>\n",
       "      <td>1</td>\n",
       "      <td>0</td>\n",
       "      <td>0</td>\n",
       "      <td>0</td>\n",
       "      <td>0</td>\n",
       "      <td>0</td>\n",
       "      <td>0</td>\n",
       "      <td>0</td>\n",
       "      <td>11</td>\n",
       "      <td>0</td>\n",
       "      <td>1</td>\n",
       "      <td>0</td>\n",
       "      <td>0.7</td>\n",
       "      <td>0.2</td>\n",
       "      <td>0.718070</td>\n",
       "      <td>10</td>\n",
       "      <td>1</td>\n",
       "      <td>-1</td>\n",
       "      <td>0</td>\n",
       "      <td>1</td>\n",
       "      <td>4</td>\n",
       "      <td>1</td>\n",
       "      <td>0</td>\n",
       "      <td>0</td>\n",
       "      <td>1</td>\n",
       "      <td>12</td>\n",
       "      <td>2</td>\n",
       "      <td>0.400000</td>\n",
       "      <td>0.883679</td>\n",
       "      <td>0.370810</td>\n",
       "      <td>3.605551</td>\n",
       "      <td>0.6</td>\n",
       "      <td>0.5</td>\n",
       "      <td>0.2</td>\n",
       "      <td>3</td>\n",
       "      <td>1</td>\n",
       "      <td>10</td>\n",
       "      <td>1</td>\n",
       "      <td>10</td>\n",
       "      <td>1</td>\n",
       "      <td>5</td>\n",
       "      <td>9</td>\n",
       "      <td>1</td>\n",
       "      <td>5</td>\n",
       "      <td>8</td>\n",
       "      <td>0</td>\n",
       "      <td>1</td>\n",
       "      <td>1</td>\n",
       "      <td>0</td>\n",
       "      <td>0</td>\n",
       "      <td>1</td>\n",
       "    </tr>\n",
       "    <tr>\n",
       "      <th>1</th>\n",
       "      <td>9</td>\n",
       "      <td>0</td>\n",
       "      <td>1</td>\n",
       "      <td>1</td>\n",
       "      <td>7</td>\n",
       "      <td>0</td>\n",
       "      <td>0</td>\n",
       "      <td>0</td>\n",
       "      <td>0</td>\n",
       "      <td>1</td>\n",
       "      <td>0</td>\n",
       "      <td>0</td>\n",
       "      <td>0</td>\n",
       "      <td>0</td>\n",
       "      <td>0</td>\n",
       "      <td>0</td>\n",
       "      <td>3</td>\n",
       "      <td>0</td>\n",
       "      <td>0</td>\n",
       "      <td>1</td>\n",
       "      <td>0.8</td>\n",
       "      <td>0.4</td>\n",
       "      <td>0.766078</td>\n",
       "      <td>11</td>\n",
       "      <td>1</td>\n",
       "      <td>-1</td>\n",
       "      <td>0</td>\n",
       "      <td>-1</td>\n",
       "      <td>11</td>\n",
       "      <td>1</td>\n",
       "      <td>1</td>\n",
       "      <td>2</td>\n",
       "      <td>1</td>\n",
       "      <td>19</td>\n",
       "      <td>3</td>\n",
       "      <td>0.316228</td>\n",
       "      <td>0.618817</td>\n",
       "      <td>0.388716</td>\n",
       "      <td>2.449490</td>\n",
       "      <td>0.3</td>\n",
       "      <td>0.1</td>\n",
       "      <td>0.3</td>\n",
       "      <td>2</td>\n",
       "      <td>1</td>\n",
       "      <td>9</td>\n",
       "      <td>5</td>\n",
       "      <td>8</td>\n",
       "      <td>1</td>\n",
       "      <td>7</td>\n",
       "      <td>3</td>\n",
       "      <td>1</td>\n",
       "      <td>1</td>\n",
       "      <td>9</td>\n",
       "      <td>0</td>\n",
       "      <td>1</td>\n",
       "      <td>1</td>\n",
       "      <td>0</td>\n",
       "      <td>1</td>\n",
       "      <td>0</td>\n",
       "    </tr>\n",
       "    <tr>\n",
       "      <th>2</th>\n",
       "      <td>13</td>\n",
       "      <td>0</td>\n",
       "      <td>5</td>\n",
       "      <td>4</td>\n",
       "      <td>9</td>\n",
       "      <td>1</td>\n",
       "      <td>0</td>\n",
       "      <td>0</td>\n",
       "      <td>0</td>\n",
       "      <td>1</td>\n",
       "      <td>0</td>\n",
       "      <td>0</td>\n",
       "      <td>0</td>\n",
       "      <td>0</td>\n",
       "      <td>0</td>\n",
       "      <td>0</td>\n",
       "      <td>12</td>\n",
       "      <td>1</td>\n",
       "      <td>0</td>\n",
       "      <td>0</td>\n",
       "      <td>0.0</td>\n",
       "      <td>0.0</td>\n",
       "      <td>-1.000000</td>\n",
       "      <td>7</td>\n",
       "      <td>1</td>\n",
       "      <td>-1</td>\n",
       "      <td>0</td>\n",
       "      <td>-1</td>\n",
       "      <td>14</td>\n",
       "      <td>1</td>\n",
       "      <td>1</td>\n",
       "      <td>2</td>\n",
       "      <td>1</td>\n",
       "      <td>60</td>\n",
       "      <td>1</td>\n",
       "      <td>0.316228</td>\n",
       "      <td>0.641586</td>\n",
       "      <td>0.347275</td>\n",
       "      <td>3.316625</td>\n",
       "      <td>0.5</td>\n",
       "      <td>0.7</td>\n",
       "      <td>0.1</td>\n",
       "      <td>2</td>\n",
       "      <td>2</td>\n",
       "      <td>9</td>\n",
       "      <td>1</td>\n",
       "      <td>8</td>\n",
       "      <td>2</td>\n",
       "      <td>7</td>\n",
       "      <td>4</td>\n",
       "      <td>2</td>\n",
       "      <td>7</td>\n",
       "      <td>7</td>\n",
       "      <td>0</td>\n",
       "      <td>1</td>\n",
       "      <td>1</td>\n",
       "      <td>0</td>\n",
       "      <td>1</td>\n",
       "      <td>0</td>\n",
       "    </tr>\n",
       "    <tr>\n",
       "      <th>3</th>\n",
       "      <td>16</td>\n",
       "      <td>0</td>\n",
       "      <td>0</td>\n",
       "      <td>1</td>\n",
       "      <td>2</td>\n",
       "      <td>0</td>\n",
       "      <td>0</td>\n",
       "      <td>1</td>\n",
       "      <td>0</td>\n",
       "      <td>0</td>\n",
       "      <td>0</td>\n",
       "      <td>0</td>\n",
       "      <td>0</td>\n",
       "      <td>0</td>\n",
       "      <td>0</td>\n",
       "      <td>0</td>\n",
       "      <td>8</td>\n",
       "      <td>1</td>\n",
       "      <td>0</td>\n",
       "      <td>0</td>\n",
       "      <td>0.9</td>\n",
       "      <td>0.2</td>\n",
       "      <td>0.580948</td>\n",
       "      <td>7</td>\n",
       "      <td>1</td>\n",
       "      <td>0</td>\n",
       "      <td>0</td>\n",
       "      <td>1</td>\n",
       "      <td>11</td>\n",
       "      <td>1</td>\n",
       "      <td>1</td>\n",
       "      <td>3</td>\n",
       "      <td>1</td>\n",
       "      <td>104</td>\n",
       "      <td>1</td>\n",
       "      <td>0.374166</td>\n",
       "      <td>0.542949</td>\n",
       "      <td>0.294958</td>\n",
       "      <td>2.000000</td>\n",
       "      <td>0.6</td>\n",
       "      <td>0.9</td>\n",
       "      <td>0.1</td>\n",
       "      <td>2</td>\n",
       "      <td>4</td>\n",
       "      <td>7</td>\n",
       "      <td>1</td>\n",
       "      <td>8</td>\n",
       "      <td>4</td>\n",
       "      <td>2</td>\n",
       "      <td>2</td>\n",
       "      <td>2</td>\n",
       "      <td>4</td>\n",
       "      <td>9</td>\n",
       "      <td>0</td>\n",
       "      <td>0</td>\n",
       "      <td>0</td>\n",
       "      <td>0</td>\n",
       "      <td>0</td>\n",
       "      <td>0</td>\n",
       "    </tr>\n",
       "    <tr>\n",
       "      <th>4</th>\n",
       "      <td>17</td>\n",
       "      <td>0</td>\n",
       "      <td>0</td>\n",
       "      <td>2</td>\n",
       "      <td>0</td>\n",
       "      <td>1</td>\n",
       "      <td>0</td>\n",
       "      <td>1</td>\n",
       "      <td>0</td>\n",
       "      <td>0</td>\n",
       "      <td>0</td>\n",
       "      <td>0</td>\n",
       "      <td>0</td>\n",
       "      <td>0</td>\n",
       "      <td>0</td>\n",
       "      <td>0</td>\n",
       "      <td>9</td>\n",
       "      <td>1</td>\n",
       "      <td>0</td>\n",
       "      <td>0</td>\n",
       "      <td>0.7</td>\n",
       "      <td>0.6</td>\n",
       "      <td>0.840759</td>\n",
       "      <td>11</td>\n",
       "      <td>1</td>\n",
       "      <td>-1</td>\n",
       "      <td>0</td>\n",
       "      <td>-1</td>\n",
       "      <td>14</td>\n",
       "      <td>1</td>\n",
       "      <td>1</td>\n",
       "      <td>2</td>\n",
       "      <td>1</td>\n",
       "      <td>82</td>\n",
       "      <td>3</td>\n",
       "      <td>0.316070</td>\n",
       "      <td>0.565832</td>\n",
       "      <td>0.365103</td>\n",
       "      <td>2.000000</td>\n",
       "      <td>0.4</td>\n",
       "      <td>0.6</td>\n",
       "      <td>0.0</td>\n",
       "      <td>2</td>\n",
       "      <td>2</td>\n",
       "      <td>6</td>\n",
       "      <td>3</td>\n",
       "      <td>10</td>\n",
       "      <td>2</td>\n",
       "      <td>12</td>\n",
       "      <td>3</td>\n",
       "      <td>1</td>\n",
       "      <td>1</td>\n",
       "      <td>3</td>\n",
       "      <td>0</td>\n",
       "      <td>0</td>\n",
       "      <td>0</td>\n",
       "      <td>1</td>\n",
       "      <td>1</td>\n",
       "      <td>0</td>\n",
       "    </tr>\n",
       "  </tbody>\n",
       "</table>\n",
       "</div>"
      ],
      "text/plain": [
       "   id  target  ps_ind_01  ps_ind_02_cat  ps_ind_03  ps_ind_04_cat  \\\n",
       "0   7       0          2              2          5              1   \n",
       "1   9       0          1              1          7              0   \n",
       "2  13       0          5              4          9              1   \n",
       "3  16       0          0              1          2              0   \n",
       "4  17       0          0              2          0              1   \n",
       "\n",
       "   ps_ind_05_cat  ps_ind_06_bin  ps_ind_07_bin  ps_ind_08_bin  ps_ind_09_bin  \\\n",
       "0              0              0              1              0              0   \n",
       "1              0              0              0              1              0   \n",
       "2              0              0              0              1              0   \n",
       "3              0              1              0              0              0   \n",
       "4              0              1              0              0              0   \n",
       "\n",
       "   ps_ind_10_bin  ps_ind_11_bin  ps_ind_12_bin  ps_ind_13_bin  ps_ind_14  \\\n",
       "0              0              0              0              0          0   \n",
       "1              0              0              0              0          0   \n",
       "2              0              0              0              0          0   \n",
       "3              0              0              0              0          0   \n",
       "4              0              0              0              0          0   \n",
       "\n",
       "   ps_ind_15  ps_ind_16_bin  ps_ind_17_bin  ps_ind_18_bin  ps_reg_01  \\\n",
       "0         11              0              1              0        0.7   \n",
       "1          3              0              0              1        0.8   \n",
       "2         12              1              0              0        0.0   \n",
       "3          8              1              0              0        0.9   \n",
       "4          9              1              0              0        0.7   \n",
       "\n",
       "   ps_reg_02  ps_reg_03  ps_car_01_cat  ps_car_02_cat  ps_car_03_cat  \\\n",
       "0        0.2   0.718070             10              1             -1   \n",
       "1        0.4   0.766078             11              1             -1   \n",
       "2        0.0  -1.000000              7              1             -1   \n",
       "3        0.2   0.580948              7              1              0   \n",
       "4        0.6   0.840759             11              1             -1   \n",
       "\n",
       "   ps_car_04_cat  ps_car_05_cat  ps_car_06_cat  ps_car_07_cat  ps_car_08_cat  \\\n",
       "0              0              1              4              1              0   \n",
       "1              0             -1             11              1              1   \n",
       "2              0             -1             14              1              1   \n",
       "3              0              1             11              1              1   \n",
       "4              0             -1             14              1              1   \n",
       "\n",
       "   ps_car_09_cat  ps_car_10_cat  ps_car_11_cat  ps_car_11  ps_car_12  \\\n",
       "0              0              1             12          2   0.400000   \n",
       "1              2              1             19          3   0.316228   \n",
       "2              2              1             60          1   0.316228   \n",
       "3              3              1            104          1   0.374166   \n",
       "4              2              1             82          3   0.316070   \n",
       "\n",
       "   ps_car_13  ps_car_14  ps_car_15  ps_calc_01  ps_calc_02  ps_calc_03  \\\n",
       "0   0.883679   0.370810   3.605551         0.6         0.5         0.2   \n",
       "1   0.618817   0.388716   2.449490         0.3         0.1         0.3   \n",
       "2   0.641586   0.347275   3.316625         0.5         0.7         0.1   \n",
       "3   0.542949   0.294958   2.000000         0.6         0.9         0.1   \n",
       "4   0.565832   0.365103   2.000000         0.4         0.6         0.0   \n",
       "\n",
       "   ps_calc_04  ps_calc_05  ps_calc_06  ps_calc_07  ps_calc_08  ps_calc_09  \\\n",
       "0           3           1          10           1          10           1   \n",
       "1           2           1           9           5           8           1   \n",
       "2           2           2           9           1           8           2   \n",
       "3           2           4           7           1           8           4   \n",
       "4           2           2           6           3          10           2   \n",
       "\n",
       "   ps_calc_10  ps_calc_11  ps_calc_12  ps_calc_13  ps_calc_14  ps_calc_15_bin  \\\n",
       "0           5           9           1           5           8               0   \n",
       "1           7           3           1           1           9               0   \n",
       "2           7           4           2           7           7               0   \n",
       "3           2           2           2           4           9               0   \n",
       "4          12           3           1           1           3               0   \n",
       "\n",
       "   ps_calc_16_bin  ps_calc_17_bin  ps_calc_18_bin  ps_calc_19_bin  \\\n",
       "0               1               1               0               0   \n",
       "1               1               1               0               1   \n",
       "2               1               1               0               1   \n",
       "3               0               0               0               0   \n",
       "4               0               0               1               1   \n",
       "\n",
       "   ps_calc_20_bin  \n",
       "0               1  \n",
       "1               0  \n",
       "2               0  \n",
       "3               0  \n",
       "4               0  "
      ]
     },
     "execution_count": 3,
     "metadata": {},
     "output_type": "execute_result"
    }
   ],
   "source": [
    "train.head()"
   ]
  },
  {
   "cell_type": "markdown",
   "id": "cf0baea4",
   "metadata": {},
   "source": [
    "우리가 주목해야 할 점은 다음과 같습니다.\n",
    "- 이진변수\n",
    "- 범주 값이 정수인 범주형 변수\n",
    "- integer 또는 float 값을 가진 다른 변수\n",
    "- -1로 이루어진 null 값\n",
    "- 타겟 변수와 id 변수\n",
    "\n",
    "<br>\n",
    "\n",
    "train 데이터 안의 columns과 rows의 수를 봅시다."
   ]
  },
  {
   "cell_type": "code",
   "execution_count": 4,
   "id": "679dae3b",
   "metadata": {},
   "outputs": [
    {
     "data": {
      "text/plain": [
       "(595212, 59)"
      ]
     },
     "execution_count": 4,
     "metadata": {},
     "output_type": "execute_result"
    }
   ],
   "source": [
    "train.shape"
   ]
  },
  {
   "cell_type": "code",
   "execution_count": 5,
   "id": "d5c59548",
   "metadata": {},
   "outputs": [
    {
     "data": {
      "text/plain": [
       "(595212, 59)"
      ]
     },
     "execution_count": 5,
     "metadata": {},
     "output_type": "execute_result"
    }
   ],
   "source": [
    "train.drop_duplicates()\n",
    "train.shape"
   ]
  },
  {
   "cell_type": "code",
   "execution_count": 6,
   "id": "5d6f3be2",
   "metadata": {
    "scrolled": true
   },
   "outputs": [
    {
     "data": {
      "text/plain": [
       "(892816, 58)"
      ]
     },
     "execution_count": 6,
     "metadata": {},
     "output_type": "execute_result"
    }
   ],
   "source": [
    "test.shape"
   ]
  },
  {
   "cell_type": "markdown",
   "id": "3e7b79a1",
   "metadata": {},
   "source": [
    "train 데이터셋에는 59개의 column과 595212개의 데이터가 있습니다.  \n",
    "test 데이터셋에는 58개의 column과 892816개의 데이터가 존재하고 있습니다.  \n",
    "  \n",
    "train 데이터보다 test 데이터셋이 더 많은 특이한 경우입니다.\n",
    "\n",
    "<br>\n",
    "\n",
    "이제 데이터의 유형에 대해 살펴볼 것입니다.  \n",
    "나중에 우리는 14개의 categorical 변수에 대해 dummy 변수화를 시킬 수 있을 것입니다.  \n",
    "bin 변수는 이미 이진분류이기 때문에 dummy변수화를 시킬 필요가 없습니다."
   ]
  },
  {
   "cell_type": "code",
   "execution_count": 7,
   "id": "33b60162",
   "metadata": {},
   "outputs": [
    {
     "name": "stdout",
     "output_type": "stream",
     "text": [
      "<class 'pandas.core.frame.DataFrame'>\n",
      "RangeIndex: 595212 entries, 0 to 595211\n",
      "Data columns (total 59 columns):\n",
      " #   Column          Non-Null Count   Dtype  \n",
      "---  ------          --------------   -----  \n",
      " 0   id              595212 non-null  int64  \n",
      " 1   target          595212 non-null  int64  \n",
      " 2   ps_ind_01       595212 non-null  int64  \n",
      " 3   ps_ind_02_cat   595212 non-null  int64  \n",
      " 4   ps_ind_03       595212 non-null  int64  \n",
      " 5   ps_ind_04_cat   595212 non-null  int64  \n",
      " 6   ps_ind_05_cat   595212 non-null  int64  \n",
      " 7   ps_ind_06_bin   595212 non-null  int64  \n",
      " 8   ps_ind_07_bin   595212 non-null  int64  \n",
      " 9   ps_ind_08_bin   595212 non-null  int64  \n",
      " 10  ps_ind_09_bin   595212 non-null  int64  \n",
      " 11  ps_ind_10_bin   595212 non-null  int64  \n",
      " 12  ps_ind_11_bin   595212 non-null  int64  \n",
      " 13  ps_ind_12_bin   595212 non-null  int64  \n",
      " 14  ps_ind_13_bin   595212 non-null  int64  \n",
      " 15  ps_ind_14       595212 non-null  int64  \n",
      " 16  ps_ind_15       595212 non-null  int64  \n",
      " 17  ps_ind_16_bin   595212 non-null  int64  \n",
      " 18  ps_ind_17_bin   595212 non-null  int64  \n",
      " 19  ps_ind_18_bin   595212 non-null  int64  \n",
      " 20  ps_reg_01       595212 non-null  float64\n",
      " 21  ps_reg_02       595212 non-null  float64\n",
      " 22  ps_reg_03       595212 non-null  float64\n",
      " 23  ps_car_01_cat   595212 non-null  int64  \n",
      " 24  ps_car_02_cat   595212 non-null  int64  \n",
      " 25  ps_car_03_cat   595212 non-null  int64  \n",
      " 26  ps_car_04_cat   595212 non-null  int64  \n",
      " 27  ps_car_05_cat   595212 non-null  int64  \n",
      " 28  ps_car_06_cat   595212 non-null  int64  \n",
      " 29  ps_car_07_cat   595212 non-null  int64  \n",
      " 30  ps_car_08_cat   595212 non-null  int64  \n",
      " 31  ps_car_09_cat   595212 non-null  int64  \n",
      " 32  ps_car_10_cat   595212 non-null  int64  \n",
      " 33  ps_car_11_cat   595212 non-null  int64  \n",
      " 34  ps_car_11       595212 non-null  int64  \n",
      " 35  ps_car_12       595212 non-null  float64\n",
      " 36  ps_car_13       595212 non-null  float64\n",
      " 37  ps_car_14       595212 non-null  float64\n",
      " 38  ps_car_15       595212 non-null  float64\n",
      " 39  ps_calc_01      595212 non-null  float64\n",
      " 40  ps_calc_02      595212 non-null  float64\n",
      " 41  ps_calc_03      595212 non-null  float64\n",
      " 42  ps_calc_04      595212 non-null  int64  \n",
      " 43  ps_calc_05      595212 non-null  int64  \n",
      " 44  ps_calc_06      595212 non-null  int64  \n",
      " 45  ps_calc_07      595212 non-null  int64  \n",
      " 46  ps_calc_08      595212 non-null  int64  \n",
      " 47  ps_calc_09      595212 non-null  int64  \n",
      " 48  ps_calc_10      595212 non-null  int64  \n",
      " 49  ps_calc_11      595212 non-null  int64  \n",
      " 50  ps_calc_12      595212 non-null  int64  \n",
      " 51  ps_calc_13      595212 non-null  int64  \n",
      " 52  ps_calc_14      595212 non-null  int64  \n",
      " 53  ps_calc_15_bin  595212 non-null  int64  \n",
      " 54  ps_calc_16_bin  595212 non-null  int64  \n",
      " 55  ps_calc_17_bin  595212 non-null  int64  \n",
      " 56  ps_calc_18_bin  595212 non-null  int64  \n",
      " 57  ps_calc_19_bin  595212 non-null  int64  \n",
      " 58  ps_calc_20_bin  595212 non-null  int64  \n",
      "dtypes: float64(10), int64(49)\n",
      "memory usage: 267.9 MB\n"
     ]
    }
   ],
   "source": [
    "train.info()"
   ]
  },
  {
   "cell_type": "markdown",
   "id": "6f7d3d8b",
   "metadata": {},
   "source": [
    "데이터셋에 null값이 존재하지 않습니다.  \n",
    "그 이유는 앞서 말했듯이 null값을 -1로 대체하였기 때문입니다."
   ]
  },
  {
   "cell_type": "markdown",
   "id": "1f62c55a",
   "metadata": {},
   "source": [
    "# 2. Metadata\n",
    "데이터 관리를 용이하게 위해서 우리는 DataFrame안에 각각의 변수의 관한 meta정보를 담을 것입니다.  \n",
    "이 작업은 분석 뿐만이 아니라 시각화, 모델링등과 같은 곳에서 특정한 변수 선택을 할 때 도움이 됩니다.\n",
    "\n",
    "<br>\n",
    "\n",
    "- 우리는 다음을 기준으로 Metadata를 나눌 것입니다.  \n",
    "    - 데이터의 역할: input, ID, target\n",
    "    - 데이터의 level: nominal, interval, ordinal, binary (명목, 간격, 순서, 이진)\n",
    "    - 데이터를 쓸지 안쓸지: True or False(아래의 경우는 id 변수만 버리고 나머지는 가져감)\n",
    "    - 데이터의 타입: int, float, str"
   ]
  },
  {
   "cell_type": "code",
   "execution_count": 8,
   "id": "a3ea285d",
   "metadata": {
    "scrolled": false
   },
   "outputs": [
    {
     "data": {
      "text/html": [
       "<div>\n",
       "<style scoped>\n",
       "    .dataframe tbody tr th:only-of-type {\n",
       "        vertical-align: middle;\n",
       "    }\n",
       "\n",
       "    .dataframe tbody tr th {\n",
       "        vertical-align: top;\n",
       "    }\n",
       "\n",
       "    .dataframe thead th {\n",
       "        text-align: right;\n",
       "    }\n",
       "</style>\n",
       "<table border=\"1\" class=\"dataframe\">\n",
       "  <thead>\n",
       "    <tr style=\"text-align: right;\">\n",
       "      <th></th>\n",
       "      <th>role</th>\n",
       "      <th>level</th>\n",
       "      <th>keep</th>\n",
       "      <th>dtype</th>\n",
       "    </tr>\n",
       "    <tr>\n",
       "      <th>varname</th>\n",
       "      <th></th>\n",
       "      <th></th>\n",
       "      <th></th>\n",
       "      <th></th>\n",
       "    </tr>\n",
       "  </thead>\n",
       "  <tbody>\n",
       "    <tr>\n",
       "      <th>id</th>\n",
       "      <td>id</td>\n",
       "      <td>nominal</td>\n",
       "      <td>False</td>\n",
       "      <td>int64</td>\n",
       "    </tr>\n",
       "    <tr>\n",
       "      <th>target</th>\n",
       "      <td>target</td>\n",
       "      <td>binary</td>\n",
       "      <td>True</td>\n",
       "      <td>int64</td>\n",
       "    </tr>\n",
       "    <tr>\n",
       "      <th>ps_ind_01</th>\n",
       "      <td>input</td>\n",
       "      <td>ordinal</td>\n",
       "      <td>True</td>\n",
       "      <td>int64</td>\n",
       "    </tr>\n",
       "    <tr>\n",
       "      <th>ps_ind_02_cat</th>\n",
       "      <td>input</td>\n",
       "      <td>nominal</td>\n",
       "      <td>True</td>\n",
       "      <td>int64</td>\n",
       "    </tr>\n",
       "    <tr>\n",
       "      <th>ps_ind_03</th>\n",
       "      <td>input</td>\n",
       "      <td>ordinal</td>\n",
       "      <td>True</td>\n",
       "      <td>int64</td>\n",
       "    </tr>\n",
       "    <tr>\n",
       "      <th>ps_ind_04_cat</th>\n",
       "      <td>input</td>\n",
       "      <td>nominal</td>\n",
       "      <td>True</td>\n",
       "      <td>int64</td>\n",
       "    </tr>\n",
       "    <tr>\n",
       "      <th>ps_ind_05_cat</th>\n",
       "      <td>input</td>\n",
       "      <td>nominal</td>\n",
       "      <td>True</td>\n",
       "      <td>int64</td>\n",
       "    </tr>\n",
       "    <tr>\n",
       "      <th>ps_ind_06_bin</th>\n",
       "      <td>input</td>\n",
       "      <td>binary</td>\n",
       "      <td>True</td>\n",
       "      <td>int64</td>\n",
       "    </tr>\n",
       "    <tr>\n",
       "      <th>ps_ind_07_bin</th>\n",
       "      <td>input</td>\n",
       "      <td>binary</td>\n",
       "      <td>True</td>\n",
       "      <td>int64</td>\n",
       "    </tr>\n",
       "    <tr>\n",
       "      <th>ps_ind_08_bin</th>\n",
       "      <td>input</td>\n",
       "      <td>binary</td>\n",
       "      <td>True</td>\n",
       "      <td>int64</td>\n",
       "    </tr>\n",
       "    <tr>\n",
       "      <th>ps_ind_09_bin</th>\n",
       "      <td>input</td>\n",
       "      <td>binary</td>\n",
       "      <td>True</td>\n",
       "      <td>int64</td>\n",
       "    </tr>\n",
       "    <tr>\n",
       "      <th>ps_ind_10_bin</th>\n",
       "      <td>input</td>\n",
       "      <td>binary</td>\n",
       "      <td>True</td>\n",
       "      <td>int64</td>\n",
       "    </tr>\n",
       "    <tr>\n",
       "      <th>ps_ind_11_bin</th>\n",
       "      <td>input</td>\n",
       "      <td>binary</td>\n",
       "      <td>True</td>\n",
       "      <td>int64</td>\n",
       "    </tr>\n",
       "    <tr>\n",
       "      <th>ps_ind_12_bin</th>\n",
       "      <td>input</td>\n",
       "      <td>binary</td>\n",
       "      <td>True</td>\n",
       "      <td>int64</td>\n",
       "    </tr>\n",
       "    <tr>\n",
       "      <th>ps_ind_13_bin</th>\n",
       "      <td>input</td>\n",
       "      <td>binary</td>\n",
       "      <td>True</td>\n",
       "      <td>int64</td>\n",
       "    </tr>\n",
       "    <tr>\n",
       "      <th>ps_ind_14</th>\n",
       "      <td>input</td>\n",
       "      <td>ordinal</td>\n",
       "      <td>True</td>\n",
       "      <td>int64</td>\n",
       "    </tr>\n",
       "    <tr>\n",
       "      <th>ps_ind_15</th>\n",
       "      <td>input</td>\n",
       "      <td>ordinal</td>\n",
       "      <td>True</td>\n",
       "      <td>int64</td>\n",
       "    </tr>\n",
       "    <tr>\n",
       "      <th>ps_ind_16_bin</th>\n",
       "      <td>input</td>\n",
       "      <td>binary</td>\n",
       "      <td>True</td>\n",
       "      <td>int64</td>\n",
       "    </tr>\n",
       "    <tr>\n",
       "      <th>ps_ind_17_bin</th>\n",
       "      <td>input</td>\n",
       "      <td>binary</td>\n",
       "      <td>True</td>\n",
       "      <td>int64</td>\n",
       "    </tr>\n",
       "    <tr>\n",
       "      <th>ps_ind_18_bin</th>\n",
       "      <td>input</td>\n",
       "      <td>binary</td>\n",
       "      <td>True</td>\n",
       "      <td>int64</td>\n",
       "    </tr>\n",
       "    <tr>\n",
       "      <th>ps_reg_01</th>\n",
       "      <td>input</td>\n",
       "      <td>interval</td>\n",
       "      <td>True</td>\n",
       "      <td>float64</td>\n",
       "    </tr>\n",
       "    <tr>\n",
       "      <th>ps_reg_02</th>\n",
       "      <td>input</td>\n",
       "      <td>interval</td>\n",
       "      <td>True</td>\n",
       "      <td>float64</td>\n",
       "    </tr>\n",
       "    <tr>\n",
       "      <th>ps_reg_03</th>\n",
       "      <td>input</td>\n",
       "      <td>interval</td>\n",
       "      <td>True</td>\n",
       "      <td>float64</td>\n",
       "    </tr>\n",
       "    <tr>\n",
       "      <th>ps_car_01_cat</th>\n",
       "      <td>input</td>\n",
       "      <td>nominal</td>\n",
       "      <td>True</td>\n",
       "      <td>int64</td>\n",
       "    </tr>\n",
       "    <tr>\n",
       "      <th>ps_car_02_cat</th>\n",
       "      <td>input</td>\n",
       "      <td>nominal</td>\n",
       "      <td>True</td>\n",
       "      <td>int64</td>\n",
       "    </tr>\n",
       "    <tr>\n",
       "      <th>ps_car_03_cat</th>\n",
       "      <td>input</td>\n",
       "      <td>nominal</td>\n",
       "      <td>True</td>\n",
       "      <td>int64</td>\n",
       "    </tr>\n",
       "    <tr>\n",
       "      <th>ps_car_04_cat</th>\n",
       "      <td>input</td>\n",
       "      <td>nominal</td>\n",
       "      <td>True</td>\n",
       "      <td>int64</td>\n",
       "    </tr>\n",
       "    <tr>\n",
       "      <th>ps_car_05_cat</th>\n",
       "      <td>input</td>\n",
       "      <td>nominal</td>\n",
       "      <td>True</td>\n",
       "      <td>int64</td>\n",
       "    </tr>\n",
       "    <tr>\n",
       "      <th>ps_car_06_cat</th>\n",
       "      <td>input</td>\n",
       "      <td>nominal</td>\n",
       "      <td>True</td>\n",
       "      <td>int64</td>\n",
       "    </tr>\n",
       "    <tr>\n",
       "      <th>ps_car_07_cat</th>\n",
       "      <td>input</td>\n",
       "      <td>nominal</td>\n",
       "      <td>True</td>\n",
       "      <td>int64</td>\n",
       "    </tr>\n",
       "    <tr>\n",
       "      <th>ps_car_08_cat</th>\n",
       "      <td>input</td>\n",
       "      <td>nominal</td>\n",
       "      <td>True</td>\n",
       "      <td>int64</td>\n",
       "    </tr>\n",
       "    <tr>\n",
       "      <th>ps_car_09_cat</th>\n",
       "      <td>input</td>\n",
       "      <td>nominal</td>\n",
       "      <td>True</td>\n",
       "      <td>int64</td>\n",
       "    </tr>\n",
       "    <tr>\n",
       "      <th>ps_car_10_cat</th>\n",
       "      <td>input</td>\n",
       "      <td>nominal</td>\n",
       "      <td>True</td>\n",
       "      <td>int64</td>\n",
       "    </tr>\n",
       "    <tr>\n",
       "      <th>ps_car_11_cat</th>\n",
       "      <td>input</td>\n",
       "      <td>nominal</td>\n",
       "      <td>True</td>\n",
       "      <td>int64</td>\n",
       "    </tr>\n",
       "    <tr>\n",
       "      <th>ps_car_11</th>\n",
       "      <td>input</td>\n",
       "      <td>ordinal</td>\n",
       "      <td>True</td>\n",
       "      <td>int64</td>\n",
       "    </tr>\n",
       "    <tr>\n",
       "      <th>ps_car_12</th>\n",
       "      <td>input</td>\n",
       "      <td>interval</td>\n",
       "      <td>True</td>\n",
       "      <td>float64</td>\n",
       "    </tr>\n",
       "    <tr>\n",
       "      <th>ps_car_13</th>\n",
       "      <td>input</td>\n",
       "      <td>interval</td>\n",
       "      <td>True</td>\n",
       "      <td>float64</td>\n",
       "    </tr>\n",
       "    <tr>\n",
       "      <th>ps_car_14</th>\n",
       "      <td>input</td>\n",
       "      <td>interval</td>\n",
       "      <td>True</td>\n",
       "      <td>float64</td>\n",
       "    </tr>\n",
       "    <tr>\n",
       "      <th>ps_car_15</th>\n",
       "      <td>input</td>\n",
       "      <td>interval</td>\n",
       "      <td>True</td>\n",
       "      <td>float64</td>\n",
       "    </tr>\n",
       "    <tr>\n",
       "      <th>ps_calc_01</th>\n",
       "      <td>input</td>\n",
       "      <td>interval</td>\n",
       "      <td>True</td>\n",
       "      <td>float64</td>\n",
       "    </tr>\n",
       "    <tr>\n",
       "      <th>ps_calc_02</th>\n",
       "      <td>input</td>\n",
       "      <td>interval</td>\n",
       "      <td>True</td>\n",
       "      <td>float64</td>\n",
       "    </tr>\n",
       "    <tr>\n",
       "      <th>ps_calc_03</th>\n",
       "      <td>input</td>\n",
       "      <td>interval</td>\n",
       "      <td>True</td>\n",
       "      <td>float64</td>\n",
       "    </tr>\n",
       "    <tr>\n",
       "      <th>ps_calc_04</th>\n",
       "      <td>input</td>\n",
       "      <td>ordinal</td>\n",
       "      <td>True</td>\n",
       "      <td>int64</td>\n",
       "    </tr>\n",
       "    <tr>\n",
       "      <th>ps_calc_05</th>\n",
       "      <td>input</td>\n",
       "      <td>ordinal</td>\n",
       "      <td>True</td>\n",
       "      <td>int64</td>\n",
       "    </tr>\n",
       "    <tr>\n",
       "      <th>ps_calc_06</th>\n",
       "      <td>input</td>\n",
       "      <td>ordinal</td>\n",
       "      <td>True</td>\n",
       "      <td>int64</td>\n",
       "    </tr>\n",
       "    <tr>\n",
       "      <th>ps_calc_07</th>\n",
       "      <td>input</td>\n",
       "      <td>ordinal</td>\n",
       "      <td>True</td>\n",
       "      <td>int64</td>\n",
       "    </tr>\n",
       "    <tr>\n",
       "      <th>ps_calc_08</th>\n",
       "      <td>input</td>\n",
       "      <td>ordinal</td>\n",
       "      <td>True</td>\n",
       "      <td>int64</td>\n",
       "    </tr>\n",
       "    <tr>\n",
       "      <th>ps_calc_09</th>\n",
       "      <td>input</td>\n",
       "      <td>ordinal</td>\n",
       "      <td>True</td>\n",
       "      <td>int64</td>\n",
       "    </tr>\n",
       "    <tr>\n",
       "      <th>ps_calc_10</th>\n",
       "      <td>input</td>\n",
       "      <td>ordinal</td>\n",
       "      <td>True</td>\n",
       "      <td>int64</td>\n",
       "    </tr>\n",
       "    <tr>\n",
       "      <th>ps_calc_11</th>\n",
       "      <td>input</td>\n",
       "      <td>ordinal</td>\n",
       "      <td>True</td>\n",
       "      <td>int64</td>\n",
       "    </tr>\n",
       "    <tr>\n",
       "      <th>ps_calc_12</th>\n",
       "      <td>input</td>\n",
       "      <td>ordinal</td>\n",
       "      <td>True</td>\n",
       "      <td>int64</td>\n",
       "    </tr>\n",
       "    <tr>\n",
       "      <th>ps_calc_13</th>\n",
       "      <td>input</td>\n",
       "      <td>ordinal</td>\n",
       "      <td>True</td>\n",
       "      <td>int64</td>\n",
       "    </tr>\n",
       "    <tr>\n",
       "      <th>ps_calc_14</th>\n",
       "      <td>input</td>\n",
       "      <td>ordinal</td>\n",
       "      <td>True</td>\n",
       "      <td>int64</td>\n",
       "    </tr>\n",
       "    <tr>\n",
       "      <th>ps_calc_15_bin</th>\n",
       "      <td>input</td>\n",
       "      <td>binary</td>\n",
       "      <td>True</td>\n",
       "      <td>int64</td>\n",
       "    </tr>\n",
       "    <tr>\n",
       "      <th>ps_calc_16_bin</th>\n",
       "      <td>input</td>\n",
       "      <td>binary</td>\n",
       "      <td>True</td>\n",
       "      <td>int64</td>\n",
       "    </tr>\n",
       "    <tr>\n",
       "      <th>ps_calc_17_bin</th>\n",
       "      <td>input</td>\n",
       "      <td>binary</td>\n",
       "      <td>True</td>\n",
       "      <td>int64</td>\n",
       "    </tr>\n",
       "    <tr>\n",
       "      <th>ps_calc_18_bin</th>\n",
       "      <td>input</td>\n",
       "      <td>binary</td>\n",
       "      <td>True</td>\n",
       "      <td>int64</td>\n",
       "    </tr>\n",
       "    <tr>\n",
       "      <th>ps_calc_19_bin</th>\n",
       "      <td>input</td>\n",
       "      <td>binary</td>\n",
       "      <td>True</td>\n",
       "      <td>int64</td>\n",
       "    </tr>\n",
       "    <tr>\n",
       "      <th>ps_calc_20_bin</th>\n",
       "      <td>input</td>\n",
       "      <td>binary</td>\n",
       "      <td>True</td>\n",
       "      <td>int64</td>\n",
       "    </tr>\n",
       "  </tbody>\n",
       "</table>\n",
       "</div>"
      ],
      "text/plain": [
       "                  role     level   keep    dtype\n",
       "varname                                         \n",
       "id                  id   nominal  False    int64\n",
       "target          target    binary   True    int64\n",
       "ps_ind_01        input   ordinal   True    int64\n",
       "ps_ind_02_cat    input   nominal   True    int64\n",
       "ps_ind_03        input   ordinal   True    int64\n",
       "ps_ind_04_cat    input   nominal   True    int64\n",
       "ps_ind_05_cat    input   nominal   True    int64\n",
       "ps_ind_06_bin    input    binary   True    int64\n",
       "ps_ind_07_bin    input    binary   True    int64\n",
       "ps_ind_08_bin    input    binary   True    int64\n",
       "ps_ind_09_bin    input    binary   True    int64\n",
       "ps_ind_10_bin    input    binary   True    int64\n",
       "ps_ind_11_bin    input    binary   True    int64\n",
       "ps_ind_12_bin    input    binary   True    int64\n",
       "ps_ind_13_bin    input    binary   True    int64\n",
       "ps_ind_14        input   ordinal   True    int64\n",
       "ps_ind_15        input   ordinal   True    int64\n",
       "ps_ind_16_bin    input    binary   True    int64\n",
       "ps_ind_17_bin    input    binary   True    int64\n",
       "ps_ind_18_bin    input    binary   True    int64\n",
       "ps_reg_01        input  interval   True  float64\n",
       "ps_reg_02        input  interval   True  float64\n",
       "ps_reg_03        input  interval   True  float64\n",
       "ps_car_01_cat    input   nominal   True    int64\n",
       "ps_car_02_cat    input   nominal   True    int64\n",
       "ps_car_03_cat    input   nominal   True    int64\n",
       "ps_car_04_cat    input   nominal   True    int64\n",
       "ps_car_05_cat    input   nominal   True    int64\n",
       "ps_car_06_cat    input   nominal   True    int64\n",
       "ps_car_07_cat    input   nominal   True    int64\n",
       "ps_car_08_cat    input   nominal   True    int64\n",
       "ps_car_09_cat    input   nominal   True    int64\n",
       "ps_car_10_cat    input   nominal   True    int64\n",
       "ps_car_11_cat    input   nominal   True    int64\n",
       "ps_car_11        input   ordinal   True    int64\n",
       "ps_car_12        input  interval   True  float64\n",
       "ps_car_13        input  interval   True  float64\n",
       "ps_car_14        input  interval   True  float64\n",
       "ps_car_15        input  interval   True  float64\n",
       "ps_calc_01       input  interval   True  float64\n",
       "ps_calc_02       input  interval   True  float64\n",
       "ps_calc_03       input  interval   True  float64\n",
       "ps_calc_04       input   ordinal   True    int64\n",
       "ps_calc_05       input   ordinal   True    int64\n",
       "ps_calc_06       input   ordinal   True    int64\n",
       "ps_calc_07       input   ordinal   True    int64\n",
       "ps_calc_08       input   ordinal   True    int64\n",
       "ps_calc_09       input   ordinal   True    int64\n",
       "ps_calc_10       input   ordinal   True    int64\n",
       "ps_calc_11       input   ordinal   True    int64\n",
       "ps_calc_12       input   ordinal   True    int64\n",
       "ps_calc_13       input   ordinal   True    int64\n",
       "ps_calc_14       input   ordinal   True    int64\n",
       "ps_calc_15_bin   input    binary   True    int64\n",
       "ps_calc_16_bin   input    binary   True    int64\n",
       "ps_calc_17_bin   input    binary   True    int64\n",
       "ps_calc_18_bin   input    binary   True    int64\n",
       "ps_calc_19_bin   input    binary   True    int64\n",
       "ps_calc_20_bin   input    binary   True    int64"
      ]
     },
     "execution_count": 8,
     "metadata": {},
     "output_type": "execute_result"
    }
   ],
   "source": [
    "data = []\n",
    "for f in train.columns:\n",
    "    # 데이터의 역할을 지정 (독립변수, 종속변수, id)\n",
    "    if f == 'target':\n",
    "        role = 'target'\n",
    "    elif f == 'id':\n",
    "        role = 'id'\n",
    "    else:\n",
    "        role = 'input'\n",
    "        \n",
    "    # 데이터의 level을 지정 (명목변수, 간격변수, 순서변수)\n",
    "    if 'bin' in f or f == 'target':\n",
    "        level='binary'\n",
    "    elif 'cat' in f or f == 'id':\n",
    "        level='nominal'\n",
    "    elif train[f].dtype == float:\n",
    "        level = 'interval'\n",
    "    elif train[f].dtype == 'int64':\n",
    "        level = 'ordinal'\n",
    "        \n",
    "    # keep 군집을 id를 제외한 모든 변수들을 위해 True로 초기화한다.\n",
    "    keep = True\n",
    "    if f == 'id':\n",
    "        keep = False\n",
    "        \n",
    "    dtype = train[f].dtype\n",
    "    \n",
    "    # DataFrame으로 만들기 위해 리스트에 append하기 전에 딕셔너리 타입으로 만들어주었음\n",
    "    f_dict = {\n",
    "        'varname': f,\n",
    "        'role': role,\n",
    "        'level': level,\n",
    "        'keep': keep,\n",
    "        'dtype': dtype\n",
    "    }\n",
    "    data.append(f_dict)\n",
    "# 변수의 이름을 인덱스로 하는 데이터프레임을 만들어줌\n",
    "meta = pd.DataFrame(data, columns = ['varname', 'role', 'level', 'keep', 'dtype'])\n",
    "meta.set_index('varname', inplace=True)\n",
    "meta"
   ]
  },
  {
   "cell_type": "markdown",
   "id": "62586b88",
   "metadata": {},
   "source": [
    "meta라는 DataFrame을 만든 이유는 자료의 column들이 많기 때문입니다.  \n",
    "더불어 이 column들은 비식별화되어 있어 어떠한 column이 어떠한 속성을 가지고 있는지를 쉽게 알지 못합니다.  \n",
    "\n",
    "- 다음은meta DataFrame을 사용한 예시입니다.\n",
    "    - drop하지 않은 명목변수를 추출하는 예"
   ]
  },
  {
   "cell_type": "code",
   "execution_count": 10,
   "id": "8f9bddd3",
   "metadata": {},
   "outputs": [
    {
     "data": {
      "text/plain": [
       "Index(['ps_ind_02_cat', 'ps_ind_04_cat', 'ps_ind_05_cat', 'ps_car_01_cat',\n",
       "       'ps_car_02_cat', 'ps_car_03_cat', 'ps_car_04_cat', 'ps_car_05_cat',\n",
       "       'ps_car_06_cat', 'ps_car_07_cat', 'ps_car_08_cat', 'ps_car_09_cat',\n",
       "       'ps_car_10_cat', 'ps_car_11_cat'],\n",
       "      dtype='object', name='varname')"
      ]
     },
     "execution_count": 10,
     "metadata": {},
     "output_type": "execute_result"
    }
   ],
   "source": [
    "meta[(meta.level == 'nominal') & (meta.keep)].index"
   ]
  },
  {
   "cell_type": "markdown",
   "id": "e6626bf8",
   "metadata": {},
   "source": [
    "역할과 level에 따른 변수들의 수는 다음과 같아 나타낼 수 있습니다."
   ]
  },
  {
   "cell_type": "code",
   "execution_count": 11,
   "id": "f61eddb8",
   "metadata": {},
   "outputs": [
    {
     "data": {
      "text/html": [
       "<div>\n",
       "<style scoped>\n",
       "    .dataframe tbody tr th:only-of-type {\n",
       "        vertical-align: middle;\n",
       "    }\n",
       "\n",
       "    .dataframe tbody tr th {\n",
       "        vertical-align: top;\n",
       "    }\n",
       "\n",
       "    .dataframe thead th {\n",
       "        text-align: right;\n",
       "    }\n",
       "</style>\n",
       "<table border=\"1\" class=\"dataframe\">\n",
       "  <thead>\n",
       "    <tr style=\"text-align: right;\">\n",
       "      <th></th>\n",
       "      <th>role</th>\n",
       "      <th>level</th>\n",
       "      <th>count</th>\n",
       "    </tr>\n",
       "  </thead>\n",
       "  <tbody>\n",
       "    <tr>\n",
       "      <th>0</th>\n",
       "      <td>id</td>\n",
       "      <td>nominal</td>\n",
       "      <td>1</td>\n",
       "    </tr>\n",
       "    <tr>\n",
       "      <th>1</th>\n",
       "      <td>input</td>\n",
       "      <td>binary</td>\n",
       "      <td>17</td>\n",
       "    </tr>\n",
       "    <tr>\n",
       "      <th>2</th>\n",
       "      <td>input</td>\n",
       "      <td>interval</td>\n",
       "      <td>10</td>\n",
       "    </tr>\n",
       "    <tr>\n",
       "      <th>3</th>\n",
       "      <td>input</td>\n",
       "      <td>nominal</td>\n",
       "      <td>14</td>\n",
       "    </tr>\n",
       "    <tr>\n",
       "      <th>4</th>\n",
       "      <td>input</td>\n",
       "      <td>ordinal</td>\n",
       "      <td>16</td>\n",
       "    </tr>\n",
       "    <tr>\n",
       "      <th>5</th>\n",
       "      <td>target</td>\n",
       "      <td>binary</td>\n",
       "      <td>1</td>\n",
       "    </tr>\n",
       "  </tbody>\n",
       "</table>\n",
       "</div>"
      ],
      "text/plain": [
       "     role     level  count\n",
       "0      id   nominal      1\n",
       "1   input    binary     17\n",
       "2   input  interval     10\n",
       "3   input   nominal     14\n",
       "4   input   ordinal     16\n",
       "5  target    binary      1"
      ]
     },
     "execution_count": 11,
     "metadata": {},
     "output_type": "execute_result"
    }
   ],
   "source": [
    "pd.DataFrame({'count':meta.groupby(['role', 'level'])['role'].size()}).reset_index()"
   ]
  },
  {
   "cell_type": "markdown",
   "id": "7d5dda70",
   "metadata": {},
   "source": [
    "# 3. 통계적 분석\n",
    "우리는 *decribe* method를 통해 DataFrame의 통계량을 분석할 수 있습니다.  \n",
    "그러나 categorical 변수나 id 변수에 통계량(평균, 표준편차 등)을 구할 수 없습니다.  \n",
    "이러한 categorical 변수는 나중에 시각화하기로 합시다.  \n",
    "\n",
    "<br>\n",
    "\n",
    "다행히 우리는 meta DataFrame을 통해 쉽게 통계량 분석에 필요한 변수들을 선택하여 분석할 수 있습니다.  \n",
    "각각의 데이터의 타입대로 *describe*를 실행하여 봅시다."
   ]
  },
  {
   "cell_type": "markdown",
   "id": "a17f2610",
   "metadata": {},
   "source": [
    "## 3_1. 순서형 변수"
   ]
  },
  {
   "cell_type": "code",
   "execution_count": 12,
   "id": "0f7bb9a6",
   "metadata": {},
   "outputs": [
    {
     "data": {
      "text/html": [
       "<div>\n",
       "<style scoped>\n",
       "    .dataframe tbody tr th:only-of-type {\n",
       "        vertical-align: middle;\n",
       "    }\n",
       "\n",
       "    .dataframe tbody tr th {\n",
       "        vertical-align: top;\n",
       "    }\n",
       "\n",
       "    .dataframe thead th {\n",
       "        text-align: right;\n",
       "    }\n",
       "</style>\n",
       "<table border=\"1\" class=\"dataframe\">\n",
       "  <thead>\n",
       "    <tr style=\"text-align: right;\">\n",
       "      <th></th>\n",
       "      <th>ps_reg_01</th>\n",
       "      <th>ps_reg_02</th>\n",
       "      <th>ps_reg_03</th>\n",
       "      <th>ps_car_12</th>\n",
       "      <th>ps_car_13</th>\n",
       "      <th>ps_car_14</th>\n",
       "      <th>ps_car_15</th>\n",
       "      <th>ps_calc_01</th>\n",
       "      <th>ps_calc_02</th>\n",
       "      <th>ps_calc_03</th>\n",
       "    </tr>\n",
       "  </thead>\n",
       "  <tbody>\n",
       "    <tr>\n",
       "      <th>count</th>\n",
       "      <td>595212.000000</td>\n",
       "      <td>595212.000000</td>\n",
       "      <td>595212.000000</td>\n",
       "      <td>595212.000000</td>\n",
       "      <td>595212.000000</td>\n",
       "      <td>595212.000000</td>\n",
       "      <td>595212.000000</td>\n",
       "      <td>595212.000000</td>\n",
       "      <td>595212.000000</td>\n",
       "      <td>595212.000000</td>\n",
       "    </tr>\n",
       "    <tr>\n",
       "      <th>mean</th>\n",
       "      <td>0.610991</td>\n",
       "      <td>0.439184</td>\n",
       "      <td>0.551102</td>\n",
       "      <td>0.379945</td>\n",
       "      <td>0.813265</td>\n",
       "      <td>0.276256</td>\n",
       "      <td>3.065899</td>\n",
       "      <td>0.449756</td>\n",
       "      <td>0.449589</td>\n",
       "      <td>0.449849</td>\n",
       "    </tr>\n",
       "    <tr>\n",
       "      <th>std</th>\n",
       "      <td>0.287643</td>\n",
       "      <td>0.404264</td>\n",
       "      <td>0.793506</td>\n",
       "      <td>0.058327</td>\n",
       "      <td>0.224588</td>\n",
       "      <td>0.357154</td>\n",
       "      <td>0.731366</td>\n",
       "      <td>0.287198</td>\n",
       "      <td>0.286893</td>\n",
       "      <td>0.287153</td>\n",
       "    </tr>\n",
       "    <tr>\n",
       "      <th>min</th>\n",
       "      <td>0.000000</td>\n",
       "      <td>0.000000</td>\n",
       "      <td>-1.000000</td>\n",
       "      <td>-1.000000</td>\n",
       "      <td>0.250619</td>\n",
       "      <td>-1.000000</td>\n",
       "      <td>0.000000</td>\n",
       "      <td>0.000000</td>\n",
       "      <td>0.000000</td>\n",
       "      <td>0.000000</td>\n",
       "    </tr>\n",
       "    <tr>\n",
       "      <th>25%</th>\n",
       "      <td>0.400000</td>\n",
       "      <td>0.200000</td>\n",
       "      <td>0.525000</td>\n",
       "      <td>0.316228</td>\n",
       "      <td>0.670867</td>\n",
       "      <td>0.333167</td>\n",
       "      <td>2.828427</td>\n",
       "      <td>0.200000</td>\n",
       "      <td>0.200000</td>\n",
       "      <td>0.200000</td>\n",
       "    </tr>\n",
       "    <tr>\n",
       "      <th>50%</th>\n",
       "      <td>0.700000</td>\n",
       "      <td>0.300000</td>\n",
       "      <td>0.720677</td>\n",
       "      <td>0.374166</td>\n",
       "      <td>0.765811</td>\n",
       "      <td>0.368782</td>\n",
       "      <td>3.316625</td>\n",
       "      <td>0.500000</td>\n",
       "      <td>0.400000</td>\n",
       "      <td>0.500000</td>\n",
       "    </tr>\n",
       "    <tr>\n",
       "      <th>75%</th>\n",
       "      <td>0.900000</td>\n",
       "      <td>0.600000</td>\n",
       "      <td>1.000000</td>\n",
       "      <td>0.400000</td>\n",
       "      <td>0.906190</td>\n",
       "      <td>0.396485</td>\n",
       "      <td>3.605551</td>\n",
       "      <td>0.700000</td>\n",
       "      <td>0.700000</td>\n",
       "      <td>0.700000</td>\n",
       "    </tr>\n",
       "    <tr>\n",
       "      <th>max</th>\n",
       "      <td>0.900000</td>\n",
       "      <td>1.800000</td>\n",
       "      <td>4.037945</td>\n",
       "      <td>1.264911</td>\n",
       "      <td>3.720626</td>\n",
       "      <td>0.636396</td>\n",
       "      <td>3.741657</td>\n",
       "      <td>0.900000</td>\n",
       "      <td>0.900000</td>\n",
       "      <td>0.900000</td>\n",
       "    </tr>\n",
       "  </tbody>\n",
       "</table>\n",
       "</div>"
      ],
      "text/plain": [
       "           ps_reg_01      ps_reg_02      ps_reg_03      ps_car_12  \\\n",
       "count  595212.000000  595212.000000  595212.000000  595212.000000   \n",
       "mean        0.610991       0.439184       0.551102       0.379945   \n",
       "std         0.287643       0.404264       0.793506       0.058327   \n",
       "min         0.000000       0.000000      -1.000000      -1.000000   \n",
       "25%         0.400000       0.200000       0.525000       0.316228   \n",
       "50%         0.700000       0.300000       0.720677       0.374166   \n",
       "75%         0.900000       0.600000       1.000000       0.400000   \n",
       "max         0.900000       1.800000       4.037945       1.264911   \n",
       "\n",
       "           ps_car_13      ps_car_14      ps_car_15     ps_calc_01  \\\n",
       "count  595212.000000  595212.000000  595212.000000  595212.000000   \n",
       "mean        0.813265       0.276256       3.065899       0.449756   \n",
       "std         0.224588       0.357154       0.731366       0.287198   \n",
       "min         0.250619      -1.000000       0.000000       0.000000   \n",
       "25%         0.670867       0.333167       2.828427       0.200000   \n",
       "50%         0.765811       0.368782       3.316625       0.500000   \n",
       "75%         0.906190       0.396485       3.605551       0.700000   \n",
       "max         3.720626       0.636396       3.741657       0.900000   \n",
       "\n",
       "          ps_calc_02     ps_calc_03  \n",
       "count  595212.000000  595212.000000  \n",
       "mean        0.449589       0.449849  \n",
       "std         0.286893       0.287153  \n",
       "min         0.000000       0.000000  \n",
       "25%         0.200000       0.200000  \n",
       "50%         0.400000       0.500000  \n",
       "75%         0.700000       0.700000  \n",
       "max         0.900000       0.900000  "
      ]
     },
     "execution_count": 12,
     "metadata": {},
     "output_type": "execute_result"
    }
   ],
   "source": [
    "v = meta[(meta.level == 'interval') & (meta.keep)].index\n",
    "train[v].describe()"
   ]
  },
  {
   "cell_type": "markdown",
   "id": "069b6773",
   "metadata": {},
   "source": [
    "**reg variables**  \n",
    "- 오직 ps_reg_03만이 결측치 값을 가지고 있습니다.\n",
    "- 범위(최소값과 최대값)은 변수간마다 다릅니다. 우리는 scaling을 할수 있겠지만 우리가 사용할 분류기에 따라 다릅니다.  \n",
    "\n",
    "**cat variables**  \n",
    "- ps_cat12와 ps_car14에 결측치 값을 가지고 있습니다.\n",
    "- 이 속성 또한 스케일이 필요할 수 있습니다.  \n",
    "\n",
    "**calc variables**  \n",
    "- 결측치를 가지고 있지 않습니다.\n",
    "- 최대값이 9를 가진 어떠한 일정한 비율을 가지고 있는 것으로 보입니다.\n",
    "- calc 변수는 매우 비슷한 분포를 보입니다.  \n",
    "\n",
    "전체적으로 순서형 변수들의 범위가 작은 것을 알수 있습니다.  \n",
    "아마도 데이터 비식별화를 위해 몇가지의 변환(ex. log transformation)이 미리 적용된 것 같습니다."
   ]
  },
  {
   "cell_type": "markdown",
   "id": "c2dc4c6d",
   "metadata": {},
   "source": [
    "## 3_2. 순위 변수"
   ]
  },
  {
   "cell_type": "code",
   "execution_count": 13,
   "id": "10c2a2cb",
   "metadata": {},
   "outputs": [
    {
     "data": {
      "text/html": [
       "<div>\n",
       "<style scoped>\n",
       "    .dataframe tbody tr th:only-of-type {\n",
       "        vertical-align: middle;\n",
       "    }\n",
       "\n",
       "    .dataframe tbody tr th {\n",
       "        vertical-align: top;\n",
       "    }\n",
       "\n",
       "    .dataframe thead th {\n",
       "        text-align: right;\n",
       "    }\n",
       "</style>\n",
       "<table border=\"1\" class=\"dataframe\">\n",
       "  <thead>\n",
       "    <tr style=\"text-align: right;\">\n",
       "      <th></th>\n",
       "      <th>ps_ind_01</th>\n",
       "      <th>ps_ind_03</th>\n",
       "      <th>ps_ind_14</th>\n",
       "      <th>ps_ind_15</th>\n",
       "      <th>ps_car_11</th>\n",
       "      <th>ps_calc_04</th>\n",
       "      <th>ps_calc_05</th>\n",
       "      <th>ps_calc_06</th>\n",
       "      <th>ps_calc_07</th>\n",
       "      <th>ps_calc_08</th>\n",
       "      <th>ps_calc_09</th>\n",
       "      <th>ps_calc_10</th>\n",
       "      <th>ps_calc_11</th>\n",
       "      <th>ps_calc_12</th>\n",
       "      <th>ps_calc_13</th>\n",
       "      <th>ps_calc_14</th>\n",
       "    </tr>\n",
       "  </thead>\n",
       "  <tbody>\n",
       "    <tr>\n",
       "      <th>count</th>\n",
       "      <td>595212.000000</td>\n",
       "      <td>595212.000000</td>\n",
       "      <td>595212.000000</td>\n",
       "      <td>595212.000000</td>\n",
       "      <td>595212.000000</td>\n",
       "      <td>595212.000000</td>\n",
       "      <td>595212.000000</td>\n",
       "      <td>595212.000000</td>\n",
       "      <td>595212.000000</td>\n",
       "      <td>595212.000000</td>\n",
       "      <td>595212.000000</td>\n",
       "      <td>595212.000000</td>\n",
       "      <td>595212.000000</td>\n",
       "      <td>595212.000000</td>\n",
       "      <td>595212.000000</td>\n",
       "      <td>595212.000000</td>\n",
       "    </tr>\n",
       "    <tr>\n",
       "      <th>mean</th>\n",
       "      <td>1.900378</td>\n",
       "      <td>4.423318</td>\n",
       "      <td>0.012451</td>\n",
       "      <td>7.299922</td>\n",
       "      <td>2.346072</td>\n",
       "      <td>2.372081</td>\n",
       "      <td>1.885886</td>\n",
       "      <td>7.689445</td>\n",
       "      <td>3.005823</td>\n",
       "      <td>9.225904</td>\n",
       "      <td>2.339034</td>\n",
       "      <td>8.433590</td>\n",
       "      <td>5.441382</td>\n",
       "      <td>1.441918</td>\n",
       "      <td>2.872288</td>\n",
       "      <td>7.539026</td>\n",
       "    </tr>\n",
       "    <tr>\n",
       "      <th>std</th>\n",
       "      <td>1.983789</td>\n",
       "      <td>2.699902</td>\n",
       "      <td>0.127545</td>\n",
       "      <td>3.546042</td>\n",
       "      <td>0.832548</td>\n",
       "      <td>1.117219</td>\n",
       "      <td>1.134927</td>\n",
       "      <td>1.334312</td>\n",
       "      <td>1.414564</td>\n",
       "      <td>1.459672</td>\n",
       "      <td>1.246949</td>\n",
       "      <td>2.904597</td>\n",
       "      <td>2.332871</td>\n",
       "      <td>1.202963</td>\n",
       "      <td>1.694887</td>\n",
       "      <td>2.746652</td>\n",
       "    </tr>\n",
       "    <tr>\n",
       "      <th>min</th>\n",
       "      <td>0.000000</td>\n",
       "      <td>0.000000</td>\n",
       "      <td>0.000000</td>\n",
       "      <td>0.000000</td>\n",
       "      <td>-1.000000</td>\n",
       "      <td>0.000000</td>\n",
       "      <td>0.000000</td>\n",
       "      <td>0.000000</td>\n",
       "      <td>0.000000</td>\n",
       "      <td>2.000000</td>\n",
       "      <td>0.000000</td>\n",
       "      <td>0.000000</td>\n",
       "      <td>0.000000</td>\n",
       "      <td>0.000000</td>\n",
       "      <td>0.000000</td>\n",
       "      <td>0.000000</td>\n",
       "    </tr>\n",
       "    <tr>\n",
       "      <th>25%</th>\n",
       "      <td>0.000000</td>\n",
       "      <td>2.000000</td>\n",
       "      <td>0.000000</td>\n",
       "      <td>5.000000</td>\n",
       "      <td>2.000000</td>\n",
       "      <td>2.000000</td>\n",
       "      <td>1.000000</td>\n",
       "      <td>7.000000</td>\n",
       "      <td>2.000000</td>\n",
       "      <td>8.000000</td>\n",
       "      <td>1.000000</td>\n",
       "      <td>6.000000</td>\n",
       "      <td>4.000000</td>\n",
       "      <td>1.000000</td>\n",
       "      <td>2.000000</td>\n",
       "      <td>6.000000</td>\n",
       "    </tr>\n",
       "    <tr>\n",
       "      <th>50%</th>\n",
       "      <td>1.000000</td>\n",
       "      <td>4.000000</td>\n",
       "      <td>0.000000</td>\n",
       "      <td>7.000000</td>\n",
       "      <td>3.000000</td>\n",
       "      <td>2.000000</td>\n",
       "      <td>2.000000</td>\n",
       "      <td>8.000000</td>\n",
       "      <td>3.000000</td>\n",
       "      <td>9.000000</td>\n",
       "      <td>2.000000</td>\n",
       "      <td>8.000000</td>\n",
       "      <td>5.000000</td>\n",
       "      <td>1.000000</td>\n",
       "      <td>3.000000</td>\n",
       "      <td>7.000000</td>\n",
       "    </tr>\n",
       "    <tr>\n",
       "      <th>75%</th>\n",
       "      <td>3.000000</td>\n",
       "      <td>6.000000</td>\n",
       "      <td>0.000000</td>\n",
       "      <td>10.000000</td>\n",
       "      <td>3.000000</td>\n",
       "      <td>3.000000</td>\n",
       "      <td>3.000000</td>\n",
       "      <td>9.000000</td>\n",
       "      <td>4.000000</td>\n",
       "      <td>10.000000</td>\n",
       "      <td>3.000000</td>\n",
       "      <td>10.000000</td>\n",
       "      <td>7.000000</td>\n",
       "      <td>2.000000</td>\n",
       "      <td>4.000000</td>\n",
       "      <td>9.000000</td>\n",
       "    </tr>\n",
       "    <tr>\n",
       "      <th>max</th>\n",
       "      <td>7.000000</td>\n",
       "      <td>11.000000</td>\n",
       "      <td>4.000000</td>\n",
       "      <td>13.000000</td>\n",
       "      <td>3.000000</td>\n",
       "      <td>5.000000</td>\n",
       "      <td>6.000000</td>\n",
       "      <td>10.000000</td>\n",
       "      <td>9.000000</td>\n",
       "      <td>12.000000</td>\n",
       "      <td>7.000000</td>\n",
       "      <td>25.000000</td>\n",
       "      <td>19.000000</td>\n",
       "      <td>10.000000</td>\n",
       "      <td>13.000000</td>\n",
       "      <td>23.000000</td>\n",
       "    </tr>\n",
       "  </tbody>\n",
       "</table>\n",
       "</div>"
      ],
      "text/plain": [
       "           ps_ind_01      ps_ind_03      ps_ind_14      ps_ind_15  \\\n",
       "count  595212.000000  595212.000000  595212.000000  595212.000000   \n",
       "mean        1.900378       4.423318       0.012451       7.299922   \n",
       "std         1.983789       2.699902       0.127545       3.546042   \n",
       "min         0.000000       0.000000       0.000000       0.000000   \n",
       "25%         0.000000       2.000000       0.000000       5.000000   \n",
       "50%         1.000000       4.000000       0.000000       7.000000   \n",
       "75%         3.000000       6.000000       0.000000      10.000000   \n",
       "max         7.000000      11.000000       4.000000      13.000000   \n",
       "\n",
       "           ps_car_11     ps_calc_04     ps_calc_05     ps_calc_06  \\\n",
       "count  595212.000000  595212.000000  595212.000000  595212.000000   \n",
       "mean        2.346072       2.372081       1.885886       7.689445   \n",
       "std         0.832548       1.117219       1.134927       1.334312   \n",
       "min        -1.000000       0.000000       0.000000       0.000000   \n",
       "25%         2.000000       2.000000       1.000000       7.000000   \n",
       "50%         3.000000       2.000000       2.000000       8.000000   \n",
       "75%         3.000000       3.000000       3.000000       9.000000   \n",
       "max         3.000000       5.000000       6.000000      10.000000   \n",
       "\n",
       "          ps_calc_07     ps_calc_08     ps_calc_09     ps_calc_10  \\\n",
       "count  595212.000000  595212.000000  595212.000000  595212.000000   \n",
       "mean        3.005823       9.225904       2.339034       8.433590   \n",
       "std         1.414564       1.459672       1.246949       2.904597   \n",
       "min         0.000000       2.000000       0.000000       0.000000   \n",
       "25%         2.000000       8.000000       1.000000       6.000000   \n",
       "50%         3.000000       9.000000       2.000000       8.000000   \n",
       "75%         4.000000      10.000000       3.000000      10.000000   \n",
       "max         9.000000      12.000000       7.000000      25.000000   \n",
       "\n",
       "          ps_calc_11     ps_calc_12     ps_calc_13     ps_calc_14  \n",
       "count  595212.000000  595212.000000  595212.000000  595212.000000  \n",
       "mean        5.441382       1.441918       2.872288       7.539026  \n",
       "std         2.332871       1.202963       1.694887       2.746652  \n",
       "min         0.000000       0.000000       0.000000       0.000000  \n",
       "25%         4.000000       1.000000       2.000000       6.000000  \n",
       "50%         5.000000       1.000000       3.000000       7.000000  \n",
       "75%         7.000000       2.000000       4.000000       9.000000  \n",
       "max        19.000000      10.000000      13.000000      23.000000  "
      ]
     },
     "execution_count": 13,
     "metadata": {},
     "output_type": "execute_result"
    }
   ],
   "source": [
    "v = meta[(meta.level == 'ordinal') & (meta.keep)].index\n",
    "train[v].describe()"
   ]
  },
  {
   "cell_type": "markdown",
   "id": "7548ce42",
   "metadata": {},
   "source": [
    "- ps_car_11 column만이 결측치를 가지고 있습니다.\n",
    "- 다른 범위를 가지고 있는 column들은 scaling이 필요할 수 있습니다."
   ]
  },
  {
   "cell_type": "markdown",
   "id": "0050c8fa",
   "metadata": {},
   "source": [
    "## 3_3. 이진분류"
   ]
  },
  {
   "cell_type": "code",
   "execution_count": 14,
   "id": "9efdafd9",
   "metadata": {
    "scrolled": true
   },
   "outputs": [
    {
     "data": {
      "text/html": [
       "<div>\n",
       "<style scoped>\n",
       "    .dataframe tbody tr th:only-of-type {\n",
       "        vertical-align: middle;\n",
       "    }\n",
       "\n",
       "    .dataframe tbody tr th {\n",
       "        vertical-align: top;\n",
       "    }\n",
       "\n",
       "    .dataframe thead th {\n",
       "        text-align: right;\n",
       "    }\n",
       "</style>\n",
       "<table border=\"1\" class=\"dataframe\">\n",
       "  <thead>\n",
       "    <tr style=\"text-align: right;\">\n",
       "      <th></th>\n",
       "      <th>target</th>\n",
       "      <th>ps_ind_06_bin</th>\n",
       "      <th>ps_ind_07_bin</th>\n",
       "      <th>ps_ind_08_bin</th>\n",
       "      <th>ps_ind_09_bin</th>\n",
       "      <th>ps_ind_10_bin</th>\n",
       "      <th>ps_ind_11_bin</th>\n",
       "      <th>ps_ind_12_bin</th>\n",
       "      <th>ps_ind_13_bin</th>\n",
       "      <th>ps_ind_16_bin</th>\n",
       "      <th>ps_ind_17_bin</th>\n",
       "      <th>ps_ind_18_bin</th>\n",
       "      <th>ps_calc_15_bin</th>\n",
       "      <th>ps_calc_16_bin</th>\n",
       "      <th>ps_calc_17_bin</th>\n",
       "      <th>ps_calc_18_bin</th>\n",
       "      <th>ps_calc_19_bin</th>\n",
       "      <th>ps_calc_20_bin</th>\n",
       "    </tr>\n",
       "  </thead>\n",
       "  <tbody>\n",
       "    <tr>\n",
       "      <th>count</th>\n",
       "      <td>595212.000000</td>\n",
       "      <td>595212.000000</td>\n",
       "      <td>595212.000000</td>\n",
       "      <td>595212.000000</td>\n",
       "      <td>595212.000000</td>\n",
       "      <td>595212.000000</td>\n",
       "      <td>595212.000000</td>\n",
       "      <td>595212.000000</td>\n",
       "      <td>595212.000000</td>\n",
       "      <td>595212.000000</td>\n",
       "      <td>595212.000000</td>\n",
       "      <td>595212.000000</td>\n",
       "      <td>595212.000000</td>\n",
       "      <td>595212.000000</td>\n",
       "      <td>595212.000000</td>\n",
       "      <td>595212.000000</td>\n",
       "      <td>595212.000000</td>\n",
       "      <td>595212.000000</td>\n",
       "    </tr>\n",
       "    <tr>\n",
       "      <th>mean</th>\n",
       "      <td>0.036448</td>\n",
       "      <td>0.393742</td>\n",
       "      <td>0.257033</td>\n",
       "      <td>0.163921</td>\n",
       "      <td>0.185304</td>\n",
       "      <td>0.000373</td>\n",
       "      <td>0.001692</td>\n",
       "      <td>0.009439</td>\n",
       "      <td>0.000948</td>\n",
       "      <td>0.660823</td>\n",
       "      <td>0.121081</td>\n",
       "      <td>0.153446</td>\n",
       "      <td>0.122427</td>\n",
       "      <td>0.627840</td>\n",
       "      <td>0.554182</td>\n",
       "      <td>0.287182</td>\n",
       "      <td>0.349024</td>\n",
       "      <td>0.153318</td>\n",
       "    </tr>\n",
       "    <tr>\n",
       "      <th>std</th>\n",
       "      <td>0.187401</td>\n",
       "      <td>0.488579</td>\n",
       "      <td>0.436998</td>\n",
       "      <td>0.370205</td>\n",
       "      <td>0.388544</td>\n",
       "      <td>0.019309</td>\n",
       "      <td>0.041097</td>\n",
       "      <td>0.096693</td>\n",
       "      <td>0.030768</td>\n",
       "      <td>0.473430</td>\n",
       "      <td>0.326222</td>\n",
       "      <td>0.360417</td>\n",
       "      <td>0.327779</td>\n",
       "      <td>0.483381</td>\n",
       "      <td>0.497056</td>\n",
       "      <td>0.452447</td>\n",
       "      <td>0.476662</td>\n",
       "      <td>0.360295</td>\n",
       "    </tr>\n",
       "    <tr>\n",
       "      <th>min</th>\n",
       "      <td>0.000000</td>\n",
       "      <td>0.000000</td>\n",
       "      <td>0.000000</td>\n",
       "      <td>0.000000</td>\n",
       "      <td>0.000000</td>\n",
       "      <td>0.000000</td>\n",
       "      <td>0.000000</td>\n",
       "      <td>0.000000</td>\n",
       "      <td>0.000000</td>\n",
       "      <td>0.000000</td>\n",
       "      <td>0.000000</td>\n",
       "      <td>0.000000</td>\n",
       "      <td>0.000000</td>\n",
       "      <td>0.000000</td>\n",
       "      <td>0.000000</td>\n",
       "      <td>0.000000</td>\n",
       "      <td>0.000000</td>\n",
       "      <td>0.000000</td>\n",
       "    </tr>\n",
       "    <tr>\n",
       "      <th>25%</th>\n",
       "      <td>0.000000</td>\n",
       "      <td>0.000000</td>\n",
       "      <td>0.000000</td>\n",
       "      <td>0.000000</td>\n",
       "      <td>0.000000</td>\n",
       "      <td>0.000000</td>\n",
       "      <td>0.000000</td>\n",
       "      <td>0.000000</td>\n",
       "      <td>0.000000</td>\n",
       "      <td>0.000000</td>\n",
       "      <td>0.000000</td>\n",
       "      <td>0.000000</td>\n",
       "      <td>0.000000</td>\n",
       "      <td>0.000000</td>\n",
       "      <td>0.000000</td>\n",
       "      <td>0.000000</td>\n",
       "      <td>0.000000</td>\n",
       "      <td>0.000000</td>\n",
       "    </tr>\n",
       "    <tr>\n",
       "      <th>50%</th>\n",
       "      <td>0.000000</td>\n",
       "      <td>0.000000</td>\n",
       "      <td>0.000000</td>\n",
       "      <td>0.000000</td>\n",
       "      <td>0.000000</td>\n",
       "      <td>0.000000</td>\n",
       "      <td>0.000000</td>\n",
       "      <td>0.000000</td>\n",
       "      <td>0.000000</td>\n",
       "      <td>1.000000</td>\n",
       "      <td>0.000000</td>\n",
       "      <td>0.000000</td>\n",
       "      <td>0.000000</td>\n",
       "      <td>1.000000</td>\n",
       "      <td>1.000000</td>\n",
       "      <td>0.000000</td>\n",
       "      <td>0.000000</td>\n",
       "      <td>0.000000</td>\n",
       "    </tr>\n",
       "    <tr>\n",
       "      <th>75%</th>\n",
       "      <td>0.000000</td>\n",
       "      <td>1.000000</td>\n",
       "      <td>1.000000</td>\n",
       "      <td>0.000000</td>\n",
       "      <td>0.000000</td>\n",
       "      <td>0.000000</td>\n",
       "      <td>0.000000</td>\n",
       "      <td>0.000000</td>\n",
       "      <td>0.000000</td>\n",
       "      <td>1.000000</td>\n",
       "      <td>0.000000</td>\n",
       "      <td>0.000000</td>\n",
       "      <td>0.000000</td>\n",
       "      <td>1.000000</td>\n",
       "      <td>1.000000</td>\n",
       "      <td>1.000000</td>\n",
       "      <td>1.000000</td>\n",
       "      <td>0.000000</td>\n",
       "    </tr>\n",
       "    <tr>\n",
       "      <th>max</th>\n",
       "      <td>1.000000</td>\n",
       "      <td>1.000000</td>\n",
       "      <td>1.000000</td>\n",
       "      <td>1.000000</td>\n",
       "      <td>1.000000</td>\n",
       "      <td>1.000000</td>\n",
       "      <td>1.000000</td>\n",
       "      <td>1.000000</td>\n",
       "      <td>1.000000</td>\n",
       "      <td>1.000000</td>\n",
       "      <td>1.000000</td>\n",
       "      <td>1.000000</td>\n",
       "      <td>1.000000</td>\n",
       "      <td>1.000000</td>\n",
       "      <td>1.000000</td>\n",
       "      <td>1.000000</td>\n",
       "      <td>1.000000</td>\n",
       "      <td>1.000000</td>\n",
       "    </tr>\n",
       "  </tbody>\n",
       "</table>\n",
       "</div>"
      ],
      "text/plain": [
       "              target  ps_ind_06_bin  ps_ind_07_bin  ps_ind_08_bin  \\\n",
       "count  595212.000000  595212.000000  595212.000000  595212.000000   \n",
       "mean        0.036448       0.393742       0.257033       0.163921   \n",
       "std         0.187401       0.488579       0.436998       0.370205   \n",
       "min         0.000000       0.000000       0.000000       0.000000   \n",
       "25%         0.000000       0.000000       0.000000       0.000000   \n",
       "50%         0.000000       0.000000       0.000000       0.000000   \n",
       "75%         0.000000       1.000000       1.000000       0.000000   \n",
       "max         1.000000       1.000000       1.000000       1.000000   \n",
       "\n",
       "       ps_ind_09_bin  ps_ind_10_bin  ps_ind_11_bin  ps_ind_12_bin  \\\n",
       "count  595212.000000  595212.000000  595212.000000  595212.000000   \n",
       "mean        0.185304       0.000373       0.001692       0.009439   \n",
       "std         0.388544       0.019309       0.041097       0.096693   \n",
       "min         0.000000       0.000000       0.000000       0.000000   \n",
       "25%         0.000000       0.000000       0.000000       0.000000   \n",
       "50%         0.000000       0.000000       0.000000       0.000000   \n",
       "75%         0.000000       0.000000       0.000000       0.000000   \n",
       "max         1.000000       1.000000       1.000000       1.000000   \n",
       "\n",
       "       ps_ind_13_bin  ps_ind_16_bin  ps_ind_17_bin  ps_ind_18_bin  \\\n",
       "count  595212.000000  595212.000000  595212.000000  595212.000000   \n",
       "mean        0.000948       0.660823       0.121081       0.153446   \n",
       "std         0.030768       0.473430       0.326222       0.360417   \n",
       "min         0.000000       0.000000       0.000000       0.000000   \n",
       "25%         0.000000       0.000000       0.000000       0.000000   \n",
       "50%         0.000000       1.000000       0.000000       0.000000   \n",
       "75%         0.000000       1.000000       0.000000       0.000000   \n",
       "max         1.000000       1.000000       1.000000       1.000000   \n",
       "\n",
       "       ps_calc_15_bin  ps_calc_16_bin  ps_calc_17_bin  ps_calc_18_bin  \\\n",
       "count   595212.000000   595212.000000   595212.000000   595212.000000   \n",
       "mean         0.122427        0.627840        0.554182        0.287182   \n",
       "std          0.327779        0.483381        0.497056        0.452447   \n",
       "min          0.000000        0.000000        0.000000        0.000000   \n",
       "25%          0.000000        0.000000        0.000000        0.000000   \n",
       "50%          0.000000        1.000000        1.000000        0.000000   \n",
       "75%          0.000000        1.000000        1.000000        1.000000   \n",
       "max          1.000000        1.000000        1.000000        1.000000   \n",
       "\n",
       "       ps_calc_19_bin  ps_calc_20_bin  \n",
       "count   595212.000000   595212.000000  \n",
       "mean         0.349024        0.153318  \n",
       "std          0.476662        0.360295  \n",
       "min          0.000000        0.000000  \n",
       "25%          0.000000        0.000000  \n",
       "50%          0.000000        0.000000  \n",
       "75%          1.000000        0.000000  \n",
       "max          1.000000        1.000000  "
      ]
     },
     "execution_count": 14,
     "metadata": {},
     "output_type": "execute_result"
    }
   ],
   "source": [
    "v = meta[(meta.level == 'binary') & (meta.keep)].index\n",
    "train[v].describe()"
   ]
  },
  {
   "cell_type": "markdown",
   "id": "f45bb71b",
   "metadata": {},
   "source": [
    "- target column의 평균이 3.645%로 **매우 불균형한 데이터입니다.**\n",
    "- 모든 이진분류 column들의 평균이 0.5 이하의 데이터입니다.\n",
    "    - 이를 보고 우리는 대다수의 변수들이 0이라는 사실을 발견할 수 있습니다."
   ]
  },
  {
   "cell_type": "code",
   "execution_count": 15,
   "id": "3260b01f",
   "metadata": {},
   "outputs": [
    {
     "data": {
      "image/png": "[encoded data removed]",
      "text/plain": [
       "<Figure size 432x288 with 1 Axes>"
      ]
     },
     "metadata": {
      "needs_background": "light"
     },
     "output_type": "display_data"
    }
   ],
   "source": [
    "train['target'].value_counts().plot(kind='bar');"
   ]
  },
  {
   "cell_type": "markdown",
   "id": "c9531d31",
   "metadata": {},
   "source": [
    "# 4. imbalabced한 데이터 다루기\n",
    "- 앞에서 언급한 바와 같이 target=1인 관측치의 비율이 target=0보다 훨씬 작습니다.\n",
    "- 따라서 정확도는 매우 높지만 target=1의 값을 찾는 것에는 매우 힘들 것입니다.\n",
    "    - 이 데이터는 보험료를 많이 부과할 사람들을 찾는 대회입니다.\n",
    "    - 대다수의 사람들은 정상적인 보험료를 납부하겠지만 사고를 내거나 사기 경력이 있는 것과 같은 매우 빈도수를 가진 사람들을 찾는 것에 주 목표가 있습니다.\n",
    "- 이러한 문제를 해결하기 위한 두 가지 가능한 전력은 다음과 같습니다.\n",
    "\n",
    "<br>\n",
    "\n",
    "- target=1값을 가진 관측치를 oversampling\n",
    "- target=0값을 가진 관측치를 undersampling\n",
    "\n",
    "<br>\n",
    "\n",
    "이 데이터의 크기가 꽤 크므로 undersmapling을 이용하겠습니다.  \n",
    "(대다수의 경우엔 oversampling을 사용함 - undersampling은 정보의 유실이 발생하기 때문)"
   ]
  },
  {
   "cell_type": "code",
   "execution_count": 16,
   "id": "cfa64a20",
   "metadata": {},
   "outputs": [
    {
     "name": "stdout",
     "output_type": "stream",
     "text": [
      "target=0 값을 가진 undersampling 관측값의 비율: 0.34043569687437886\n",
      "undersampling 후의 target=0 값을 가진 관측치의 수: 195246\n"
     ]
    }
   ],
   "source": [
    "desired_apriori = 0.1\n",
    "\n",
    "# target 값마다 인덱스 값을 가져온다.\n",
    "idx_0 = train[train.target == 0].index\n",
    "idx_1 = train[train.target == 1].index\n",
    "\n",
    "# target 값마다의 관측치 수를 가져온다.\n",
    "nb_0 = len(train.loc[idx_0])\n",
    "nb_1 = len(train.loc[idx_1])\n",
    "\n",
    "# undersampling 비율과 target=0을 가진 관측치의 수를 계산한다.\n",
    "undersampling_rate = ((1-desired_apriori) * nb_1) / (nb_0 * desired_apriori)\n",
    "undersampled_nb_0 = int(undersampling_rate * nb_0)\n",
    "print('target=0 값을 가진 undersampling 관측값의 비율: {}'.format(undersampling_rate))\n",
    "print('undersampling 후의 target=0 값을 가진 관측치의 수: {}'.format(undersampled_nb_0))\n",
    "\n",
    "# 앞서 변수로 desired_apriori에서 선언했던 값들 중에서 랜덤하게 target= 0 값을 가진 관측값을 선택한다.\n",
    "undersampled_idx = shuffle(idx_0, random_state=37, n_samples=undersampled_nb_0)\n",
    "\n",
    "# 나머지 인덱스를 가지고 list를 생성\n",
    "idx_list = list(undersampled_idx) + list(idx_1)\n",
    "\n",
    "# DataFrame으로 되돌린다.\n",
    "train= train.loc[idx_list].reset_index(drop=True)"
   ]
  },
  {
   "cell_type": "code",
   "execution_count": 17,
   "id": "b46973ae",
   "metadata": {},
   "outputs": [
    {
     "data": {
      "text/plain": [
       "(216940, 59)"
      ]
     },
     "execution_count": 17,
     "metadata": {},
     "output_type": "execute_result"
    }
   ],
   "source": [
    "train.shape"
   ]
  },
  {
   "cell_type": "markdown",
   "id": "b0f2f448",
   "metadata": {},
   "source": [
    "# 5. 데이터 품질 체크?\n",
    "## 5_1. 결측치 체크\n",
    "- 결측치는 -1로 나타나 있다."
   ]
  },
  {
   "cell_type": "code",
   "execution_count": 18,
   "id": "5c3a1823",
   "metadata": {},
   "outputs": [
    {
     "name": "stdout",
     "output_type": "stream",
     "text": [
      "변수 ps_ind_02_cat 에 103개(0.05%)의 결측치가 존재합니다.\n",
      "변수 ps_ind_04_cat 에 51개(0.02%)의 결측치가 존재합니다.\n",
      "변수 ps_ind_05_cat 에 2256개(1.04%)의 결측치가 존재합니다.\n",
      "변수 ps_reg_03 에 38580개(17.78%)의 결측치가 존재합니다.\n",
      "변수 ps_car_01_cat 에 62개(0.03%)의 결측치가 존재합니다.\n",
      "변수 ps_car_02_cat 에 2개(0.00%)의 결측치가 존재합니다.\n",
      "변수 ps_car_03_cat 에 148367개(68.39%)의 결측치가 존재합니다.\n",
      "변수 ps_car_05_cat 에 96026개(44.26%)의 결측치가 존재합니다.\n",
      "변수 ps_car_07_cat 에 4431개(2.04%)의 결측치가 존재합니다.\n",
      "변수 ps_car_09_cat 에 230개(0.11%)의 결측치가 존재합니다.\n",
      "변수 ps_car_11 에 1개(0.00%)의 결측치가 존재합니다.\n",
      "변수 ps_car_14 에 15726개(7.25%)의 결측치가 존재합니다.\n",
      "\n",
      "전체적으로, 12개의 변수에 결측치가 존재합니다.\n"
     ]
    }
   ],
   "source": [
    "vars_with_missing = []\n",
    "\n",
    "for f in train.columns:\n",
    "    missings = train[train[f] == -1][f].count()\n",
    "    if missings > 0:\n",
    "        vars_with_missing.append(f)\n",
    "        missings_prec = missings/train.shape[0]\n",
    "        \n",
    "        print('변수 {} 에 {}개({:.2%})의 결측치가 존재합니다.'.format(f, missings, missings_prec))\n",
    "\n",
    "print('')        \n",
    "print('전체적으로, {}개의 변수에 결측치가 존재합니다.'.format(len(vars_with_missing)))"
   ]
  },
  {
   "cell_type": "markdown",
   "id": "c20ddc5d",
   "metadata": {},
   "source": [
    "- **ps_car_03_cat와 ps_car_05_cat**에 높은 비율로 결측치가 존재합니다. 이 변수들을 제거하겠습니다.\n",
    "- 결측치를 가진 다른 categorical 변수에는 결측치를 -1로 남겨두고 진행할 수도 있습니다.\n",
    "- **ps_reg_03**(연속적 변수)는 18%의 비율로 결측치를 가지고 있습니다. 평균으로 대체하겠습니다.\n",
    "- **ps_car_11**(순서형 변수)는 오직 한개의 결측치를 가지고 있습니다. 최빈값으로 대체하겠습니다.\n",
    "- **ps_car_14**(연속적 변수)는 7%로의 비율로 결측치를 가지고 있습니다. 평균으로 대체하겠습니다."
   ]
  },
  {
   "cell_type": "code",
   "execution_count": 19,
   "id": "11776471",
   "metadata": {},
   "outputs": [],
   "source": [
    "# 너무 많은 결측치가 존재하는 변수들을 제거합니다.\n",
    "vars_to_drop = ['ps_car_03_cat', 'ps_car_05_cat']\n",
    "train.drop(vars_to_drop, inplace=True, axis=1)\n",
    "meta.loc[(vars_to_drop), 'keep'] = False # meta를 업데이트합니다.\n",
    "\n",
    "# -1로 된 결측치를 평균이나 최빈값으로 대체합니다.\n",
    "mean_imp= SimpleImputer(missing_values=-1, strategy='mean')\n",
    "mode_imp= SimpleImputer(missing_values=-1, strategy='most_frequent')\n",
    "train['ps_reg_03']= mean_imp.fit_transform(train[['ps_reg_03']])\n",
    "train['ps_car_12']= mean_imp.fit_transform(train[['ps_car_12']])\n",
    "train['ps_car_14']= mean_imp.fit_transform(train[['ps_car_14']])\n",
    "train['ps_car_11']= mode_imp.fit_transform(train[['ps_car_11']])"
   ]
  },
  {
   "cell_type": "markdown",
   "id": "c71cad5d",
   "metadata": {},
   "source": [
    "## 5_2. 중복도 체크\n",
    "- 우리는 dummy 변수를 category 변수에 적용할 것이기에 category변수에 중복도를 체크해야 한다.\n",
    "- 중복도가 낮은 category변수는 dummy 변수화를 적용할 시에 너무 많은 변수를 생성하기에 우리는 이러한 변수들을 적절히 수정해야 합니다."
   ]
  },
  {
   "cell_type": "code",
   "execution_count": 20,
   "id": "8fb4bc9c",
   "metadata": {},
   "outputs": [
    {
     "name": "stdout",
     "output_type": "stream",
     "text": [
      "변수 ps_ind_02_cat에 5개의 고유한 값을 가지고 있습니다.\n",
      "변수 ps_ind_04_cat에 3개의 고유한 값을 가지고 있습니다.\n",
      "변수 ps_ind_05_cat에 8개의 고유한 값을 가지고 있습니다.\n",
      "변수 ps_car_01_cat에 13개의 고유한 값을 가지고 있습니다.\n",
      "변수 ps_car_02_cat에 3개의 고유한 값을 가지고 있습니다.\n",
      "변수 ps_car_04_cat에 10개의 고유한 값을 가지고 있습니다.\n",
      "변수 ps_car_06_cat에 18개의 고유한 값을 가지고 있습니다.\n",
      "변수 ps_car_07_cat에 3개의 고유한 값을 가지고 있습니다.\n",
      "변수 ps_car_08_cat에 2개의 고유한 값을 가지고 있습니다.\n",
      "변수 ps_car_09_cat에 6개의 고유한 값을 가지고 있습니다.\n",
      "변수 ps_car_10_cat에 3개의 고유한 값을 가지고 있습니다.\n",
      "변수 ps_car_11_cat에 104개의 고유한 값을 가지고 있습니다.\n"
     ]
    }
   ],
   "source": [
    "v= meta[(meta.level == 'nominal') & (meta.keep)].index\n",
    "\n",
    "for f in v:\n",
    "    dist_values = train[f].value_counts().shape[0]\n",
    "    print('변수 {}에 {}개의 고유한 값을 가지고 있습니다.'.format(f, dist_values))"
   ]
  },
  {
   "cell_type": "markdown",
   "id": "b05faa41",
   "metadata": {},
   "source": [
    "- **ps_car_11_cat**변수에 104개의 많은 고유값을 가지고 있지만 굳이 데이터를 건들 필요는 없습니다.\n",
    "    - 정보의 유실이 발생할 수 있기 때문"
   ]
  },
  {
   "cell_type": "code",
   "execution_count": 21,
   "id": "5f4ad457",
   "metadata": {},
   "outputs": [],
   "source": [
    "# Noise를 일으키는 함수를 정의\n",
    "def add_noise(series, noise_level):\n",
    "    # series값과 노이즈 레벨을 변수로 받아서 \n",
    "    # series(1+ noise_level * 표준정규분포로부터 샘플링된 난수)를 리턴함\n",
    "    return series * (1 + noise_level * np.random.randn(len(series)))\n",
    "\n",
    "def target_encode(trn_series= None, \n",
    "                  tst_series= None,\n",
    "                  target= None,\n",
    "                  min_samples_leaf= 1, \n",
    "                  smoothing= 1,\n",
    "                  noise_level= 0):\n",
    "    # target과 train의 series의 길이와 이름이 각각 같은지 확인\n",
    "    assert len(trn_series) == len(target)\n",
    "    assert trn_series.name == tst_series.name\n",
    "    temp = pd.concat([trn_series, target], axis=1)\n",
    "    # target의 평균을 계산함\n",
    "    averages= temp.groupby(by=trn_series.name)[target.name].agg(['mean','count'])\n",
    "    \n",
    "    # smooting을 계산\n",
    "    smoothing= 1 / (1 + np.exp(-(averages['count'] - min_samples_leaf) / smoothing))\n",
    "    # 모든 target 데이터에 평균함수를 적용한다.\n",
    "    prior= target.mean()\n",
    "    # overfitting을 고려한 smoothing\n",
    "    averages[target.name]= prior * (1 - smoothing) + averages['mean'] * smoothing\n",
    "    averages.drop(['mean','count'], axis=1, inplace=True)\n",
    "    # train series와 test series에 평균을 적용한다.\n",
    "    ft_trn_series= pd.merge(\n",
    "                        trn_series.to_frame(trn_series.name),\n",
    "                        averages.reset_index().rename(columns={'index': target.name, target.name:'average'}),\n",
    "                        on=trn_series.name,\n",
    "                        how='left')['average'].rename(trn_series.name + '_mean').fillna(prior)\n",
    "    # pd.merge는 index를 변경시키므로 이를 저장\n",
    "    ft_trn_series.index = trn_series.index\n",
    "    ft_tst_series = pd.merge(\n",
    "                        tst_series.to_frame(tst_series.name),\n",
    "                        averages.reset_index().rename(columns={'index': target.name, target.name: 'average'}),\n",
    "                        on=tst_series.name,\n",
    "                        how='left')['average'].rename(trn_series.name + '_mean').fillna(prior)\n",
    "    # pd.merge does not keep the index so restore it\n",
    "    \n",
    "    ft_tst_series.index = tst_series.index\n",
    "    return add_noise(ft_trn_series, noise_level), add_noise(ft_tst_series, noise_level)"
   ]
  },
  {
   "cell_type": "code",
   "execution_count": 22,
   "id": "76d3337a",
   "metadata": {},
   "outputs": [],
   "source": [
    "train_encoded, test_encoded = target_encode(train['ps_car_11_cat'],\n",
    "                                            test['ps_car_11_cat'],\n",
    "                                            target= train.target,\n",
    "                                            min_samples_leaf= 100,\n",
    "                                            smoothing= 10,\n",
    "                                            noise_level= 0.01)\n",
    "\n",
    "train['ps_car_11_cat_te']= train_encoded\n",
    "train.drop('ps_car_11_cat', axis=1, inplace=True)\n",
    "meta.loc['ps_car_11_cat','keep']= False\n",
    "test['ps_car_11_cat_te']= test_encoded\n",
    "test.drop('ps_car_11_cat', axis=1, inplace=True)"
   ]
  },
  {
   "cell_type": "markdown",
   "id": "ffe2ac60",
   "metadata": {},
   "source": [
    "# 6. 탐색적 데이터 시각화\n",
    "## 6_1. Categorical variables\n",
    "target값이 1인 categorical variables와 customers의 비율을 살펴봅시다."
   ]
  },
  {
   "cell_type": "code",
   "execution_count": 27,
   "id": "41fdde2c",
   "metadata": {
    "scrolled": false
   },
   "outputs": [
    {
     "data": {
      "text/plain": [
       "<Figure size 432x288 with 0 Axes>"
      ]
     },
     "metadata": {},
     "output_type": "display_data"
    },
    {
     "data": {
      "image/png": "[encoded data removed]",
      "text/plain": [
       "<Figure size 1440x720 with 1 Axes>"
      ]
     },
     "metadata": {
      "needs_background": "light"
     },
     "output_type": "display_data"
    },
    {
     "data": {
      "text/plain": [
       "<Figure size 432x288 with 0 Axes>"
      ]
     },
     "metadata": {},
     "output_type": "display_data"
    },
    {
     "data": {
      "image/png": "[encoded data removed]",
      "text/plain": [
       "<Figure size 1440x720 with 1 Axes>"
      ]
     },
     "metadata": {
      "needs_background": "light"
     },
     "output_type": "display_data"
    },
    {
     "data": {
      "text/plain": [
       "<Figure size 432x288 with 0 Axes>"
      ]
     },
     "metadata": {},
     "output_type": "display_data"
    },
    {
     "data": {
      "image/png": "[encoded data removed]",
      "text/plain": [
       "<Figure size 1440x720 with 1 Axes>"
      ]
     },
     "metadata": {
      "needs_background": "light"
     },
     "output_type": "display_data"
    },
    {
     "data": {
      "text/plain": [
       "<Figure size 432x288 with 0 Axes>"
      ]
     },
     "metadata": {},
     "output_type": "display_data"
    },
    {
     "data": {
      "image/png": "[encoded data removed]",
      "text/plain": [
       "<Figure size 1440x720 with 1 Axes>"
      ]
     },
     "metadata": {
      "needs_background": "light"
     },
     "output_type": "display_data"
    },
    {
     "data": {
      "text/plain": [
       "<Figure size 432x288 with 0 Axes>"
      ]
     },
     "metadata": {},
     "output_type": "display_data"
    },
    {
     "data": {
      "image/png": "[encoded data removed]",
      "text/plain": [
       "<Figure size 1440x720 with 1 Axes>"
      ]
     },
     "metadata": {
      "needs_background": "light"
     },
     "output_type": "display_data"
    },
    {
     "data": {
      "text/plain": [
       "<Figure size 432x288 with 0 Axes>"
      ]
     },
     "metadata": {},
     "output_type": "display_data"
    },
    {
     "data": {
      "image/png": "[encoded data removed]",
      "text/plain": [
       "<Figure size 1440x720 with 1 Axes>"
      ]
     },
     "metadata": {
      "needs_background": "light"
     },
     "output_type": "display_data"
    },
    {
     "data": {
      "text/plain": [
       "<Figure size 432x288 with 0 Axes>"
      ]
     },
     "metadata": {},
     "output_type": "display_data"
    },
    {
     "data": {
      "image/png": "[encoded data removed]",
      "text/plain": [
       "<Figure size 1440x720 with 1 Axes>"
      ]
     },
     "metadata": {
      "needs_background": "light"
     },
     "output_type": "display_data"
    },
    {
     "data": {
      "text/plain": [
       "<Figure size 432x288 with 0 Axes>"
      ]
     },
     "metadata": {},
     "output_type": "display_data"
    },
    {
     "data": {
      "image/png": "[encoded data removed]",
      "text/plain": [
       "<Figure size 1440x720 with 1 Axes>"
      ]
     },
     "metadata": {
      "needs_background": "light"
     },
     "output_type": "display_data"
    },
    {
     "data": {
      "text/plain": [
       "<Figure size 432x288 with 0 Axes>"
      ]
     },
     "metadata": {},
     "output_type": "display_data"
    },
    {
     "data": {
      "image/png": "[encoded data removed]",
      "text/plain": [
       "<Figure size 1440x720 with 1 Axes>"
      ]
     },
     "metadata": {
      "needs_background": "light"
     },
     "output_type": "display_data"
    },
    {
     "data": {
      "text/plain": [
       "<Figure size 432x288 with 0 Axes>"
      ]
     },
     "metadata": {},
     "output_type": "display_data"
    },
    {
     "data": {
      "image/png": "[encoded data removed]",
      "text/plain": [
       "<Figure size 1440x720 with 1 Axes>"
      ]
     },
     "metadata": {
      "needs_background": "light"
     },
     "output_type": "display_data"
    },
    {
     "data": {
      "text/plain": [
       "<Figure size 432x288 with 0 Axes>"
      ]
     },
     "metadata": {},
     "output_type": "display_data"
    },
    {
     "data": {
      "image/png": "[encoded data removed]",
      "text/plain": [
       "<Figure size 1440x720 with 1 Axes>"
      ]
     },
     "metadata": {
      "needs_background": "light"
     },
     "output_type": "display_data"
    }
   ],
   "source": [
    "v= meta[(meta.level =='nominal') & (meta.keep)].index\n",
    "\n",
    "for f in v:\n",
    "    plt.figure()\n",
    "    fig, ax= plt.subplots(figsize= (20, 10))\n",
    "    # category 값마다 target=1의 값을 가진 비율을 계산\n",
    "    cat_perc= train[[f, 'target']].groupby([f], as_index= False).mean()\n",
    "    cat_perc.sort_values(by= 'target', ascending= False, inplace= True)\n",
    "    # Bar plot\n",
    "    # target의 평균의 내림차순으로 bar들을 정렬\n",
    "    sns.barplot(ax=ax, x=f, y='target', data=cat_perc, order=cat_perc[f])\n",
    "    plt.xlabel(f, fontsize=18)\n",
    "    plt.tick_params(axis='both', which='major', labelsize=18)\n",
    "    for p in ax.patches:\n",
    "        left, bottom, width, height= p.get_bbox().bounds\n",
    "        ax.annotate(\"%.2f\"%(height), (left+width/2, height*1.01), ha='center', fontsize=15)\n",
    "    plt.show();"
   ]
  },
  {
   "cell_type": "markdown",
   "id": "a66561f3",
   "metadata": {},
   "source": [
    "막대 그래프를 통해 **결측치가 있는** 변수들을 확인할 수 있습니다.  \n",
    "몇몇 변수들의 결측치 비율이 상당함으로 우리는 이를 따로 치환하지 않겠습니다.  \n",
    "트리 계열의 알고리즘을 적용할 경우, 결측치를 하나의 값으로써 볼 때에 이를 타 통계량으로 치환하는 것보다 더 좋은 성능을 나타낼 수 있습니다.  \n",
    "\n",
    "<br>\n",
    "\n",
    "더불어 결측치를 가지고 있는 Customer들이 다른 Value들에 비하여 훨씬 높은 target평균을 가지고 있기 때문에  \n",
    "결측치 자체를 분리된 category value로써 보는 것이 좋은 방법일 수 있습니다.\n"
   ]
  },
  {
   "cell_type": "markdown",
   "id": "195be016",
   "metadata": {},
   "source": [
    "## 6_2. Interval variables간의 상관관계\n",
    "interval variable(간격형 변수)의 상관관계를 확인하고자 합니다.  \n",
    "Heatmap은 Variables간의 상관관계를 확인하는데 매우 효율적입니다."
   ]
  },
  {
   "cell_type": "code",
   "execution_count": 34,
   "id": "a55efb22",
   "metadata": {},
   "outputs": [
    {
     "data": {
      "image/png": "[encoded data removed]",
      "text/plain": [
       "<Figure size 720x720 with 2 Axes>"
      ]
     },
     "metadata": {
      "needs_background": "light"
     },
     "output_type": "display_data"
    }
   ],
   "source": [
    "def corr_heatmap(v):\n",
    "    correlations= train[v].corr()\n",
    "    mask= np.triu(np.ones_like(correlations, dtype=bool))\n",
    "    # 두 색상의 그라데이션 색상을 만듭니다.\n",
    "    cmap= sns.diverging_palette(220, 10, as_cmap=True)\n",
    "    \n",
    "    fig, ax= plt.subplots(figsize= (10, 10))\n",
    "    sns.heatmap(correlations, cmap= cmap, vmax= 1.0, center= 0, fmt= '.2f', mask= mask,\n",
    "                square= True, linewidths= .5, annot= True, cbar_kws= {'shrink': .75})\n",
    "    plt.show();\n",
    "    \n",
    "v= meta[(meta.level == 'interval') & (meta.keep)].index\n",
    "corr_heatmap(v)"
   ]
  },
  {
   "cell_type": "markdown",
   "id": "fc1ca8f1",
   "metadata": {},
   "source": [
    "- 강한 상관관계를 가지고 있는 Variable들은 다음과 같습니다.\n",
    "    - ps_reg_02 & ps_reg_03 **(0.7)**\n",
    "    - ps_reg_12 & ps_reg_13 **(0.67)**\n",
    "    - ps_reg_12 & ps_reg_14 **(0.58)**\n",
    "    - ps_reg_13 & ps_reg_15 **(0.53)**  \n",
    "\n",
    "<br>\n",
    "\n",
    "Seaborn의 *pair plot*을 사용하면 variable들의 선형관계를 손쉽게 시각화할 수 있습니다.  \n",
    "하지만 히트맵이 상관관계가 있는 variable들의 관계들을 시각화해주고 있기 때문에, 우리는 높은 상관관계를 보이는 variable들을 분리해서 보고자 합니다.  \n",
    "**Note** 프로세스의 속도를 높이기 위하여 train 데이터의 sample을 사용합니다."
   ]
  },
  {
   "cell_type": "code",
   "execution_count": 35,
   "id": "9cc95c0d",
   "metadata": {},
   "outputs": [
    {
     "name": "stdout",
     "output_type": "stream",
     "text": [
      "train.shape: (216940, 57)\n",
      "s.shape: (21694, 57)\n"
     ]
    }
   ],
   "source": [
    "# train 데이터에서 10%의 데이터를 샘플링합니다.\n",
    "s= train.sample(frac=0.1)\n",
    "\n",
    "print('train.shape:', train.shape)\n",
    "print('s.shape:', s.shape)"
   ]
  },
  {
   "cell_type": "markdown",
   "id": "e57daeb0",
   "metadata": {},
   "source": [
    "### (1) ps_reg_02 and ps_reg_03 (0.7)\n",
    "\n",
    "\n",
    "회귀선이 보여주듯이, 두 variables들 간에는 선형 상관관계를 살펴볼 수 있습니다.  \n",
    "*hue*파라미터를 통해 target=0과 target=1에 대한 회귀선이 동일함을 알 수 있습니다."
   ]
  },
  {
   "cell_type": "code",
   "execution_count": 37,
   "id": "2e732cca",
   "metadata": {},
   "outputs": [
    {
     "data": {
      "image/png": "[encoded data removed]",
      "text/plain": [
       "<Figure size 401.5x360 with 1 Axes>"
      ]
     },
     "metadata": {
      "needs_background": "light"
     },
     "output_type": "display_data"
    }
   ],
   "source": [
    "sns.lmplot(x= 'ps_reg_02', y= 'ps_reg_03', data=s, \n",
    "           hue= 'target', palette='Set1', scatter_kws= {'alpha': 0.3})\n",
    "plt.show()"
   ]
  },
  {
   "cell_type": "markdown",
   "id": "8d9d5ab1",
   "metadata": {},
   "source": [
    "### (2) ps_car_12 and ps_car_13 (0.67)"
   ]
  },
  {
   "cell_type": "code",
   "execution_count": 38,
   "id": "bcbbf7b3",
   "metadata": {},
   "outputs": [
    {
     "data": {
      "image/png": "[encoded data removed]",
      "text/plain": [
       "<Figure size 401.5x360 with 1 Axes>"
      ]
     },
     "metadata": {
      "needs_background": "light"
     },
     "output_type": "display_data"
    }
   ],
   "source": [
    "sns.lmplot(x='ps_car_12', y='ps_car_13', data=s, \n",
    "           hue= 'target', palette= 'Set1', scatter_kws={'alpha':0.3})\n",
    "plt.show()"
   ]
  },
  {
   "cell_type": "markdown",
   "id": "58282375",
   "metadata": {},
   "source": [
    "### (3) ps_car_12 and ps_car_14 (0.58)"
   ]
  },
  {
   "cell_type": "code",
   "execution_count": 40,
   "id": "5acffcca",
   "metadata": {},
   "outputs": [
    {
     "data": {
      "image/png": "[encoded data removed]",
      "text/plain": [
       "<Figure size 401.5x360 with 1 Axes>"
      ]
     },
     "metadata": {
      "needs_background": "light"
     },
     "output_type": "display_data"
    }
   ],
   "source": [
    "sns.lmplot(x='ps_car_12', y='ps_car_14', data=s, \n",
    "           hue='target', palette='Set1', scatter_kws={'alpha':0.3})\n",
    "plt.show()"
   ]
  },
  {
   "cell_type": "markdown",
   "id": "975fd8a9",
   "metadata": {},
   "source": [
    "### (4) ps_car_13 and ps_car_15 (0.53)"
   ]
  },
  {
   "cell_type": "code",
   "execution_count": 43,
   "id": "13598aed",
   "metadata": {},
   "outputs": [
    {
     "data": {
      "image/png": "[encoded data removed]",
      "text/plain": [
       "<Figure size 401.5x360 with 1 Axes>"
      ]
     },
     "metadata": {
      "needs_background": "light"
     },
     "output_type": "display_data"
    }
   ],
   "source": [
    "sns.lmplot(x= 'ps_car_15', y= 'ps_car_13', data= s,\n",
    "           hue= 'target', palette='Set1', scatter_kws= {'alpha': 0.3})\n",
    "plt.show()"
   ]
  },
  {
   "cell_type": "markdown",
   "id": "fe9b4f62",
   "metadata": {},
   "source": [
    "이제는 어떤 correlated variables를 유지할지 결정해야 합니다.  \n",
    "이를 위해서 우리는 Pricipal Component Analysis(PCA), 주성분 분석등을 실시하여 variables의 dimensions를 줄일 수 있습니다.  \n",
    "하지만 correlated variables의 수가 적은 만큼, 우리는 모델이 heavy-lifting을 하도록 해야 합니다."
   ]
  },
  {
   "cell_type": "markdown",
   "id": "8709a6be",
   "metadata": {},
   "source": [
    "## 6_3 Ordinal variables간의 상관관계"
   ]
  },
  {
   "cell_type": "code",
   "execution_count": 44,
   "id": "e9989cd1",
   "metadata": {},
   "outputs": [
    {
     "data": {
      "image/png": "[encoded data removed]",
      "text/plain": [
       "<Figure size 720x720 with 2 Axes>"
      ]
     },
     "metadata": {
      "needs_background": "light"
     },
     "output_type": "display_data"
    }
   ],
   "source": [
    "v = meta[(meta.level == 'ordinal') & (meta.keep)].index\n",
    "corr_heatmap(v)"
   ]
  },
  {
   "cell_type": "markdown",
   "id": "1e7c6453",
   "metadata": {},
   "source": [
    "Ordinal variables는 큰 상관관계를 가지고 있지 않는 것으로 보입니다.  \n",
    "반면에 target값으로 그룹화할때 분포가 어떻게 될지 확인할 수 있습니다."
   ]
  },
  {
   "cell_type": "markdown",
   "id": "0aaa0d5c",
   "metadata": {},
   "source": [
    "# 7. Feature engineering\n",
    "## 7_1. dummy variables 생성\n",
    "categorical variables는 어떤 순서나 중요도를 뜻하지 않습니다.  \n",
    "예를 들어 카테고리 2는 카테고리 1보다 2배의 값을 가지고 있지 않습니다.  \n",
    "하지만 많은 알고리즘들이 이를 크기로 생각하여 카테고리 2에 중요도를 더 부여할 수 있습니다.  \n",
    "이 문제는 dummy 데이터를 만들어줌으로써 해결할 수 있습니다.  \n",
    "첫 번째 dummy variable의 정보는 원래 variable의 범주에 대해 생성된 다른 dummy variable에서 파생될 수 있으므로 삭제해주도록 합니다."
   ]
  },
  {
   "cell_type": "code",
   "execution_count": 45,
   "id": "96c4399d",
   "metadata": {},
   "outputs": [
    {
     "name": "stdout",
     "output_type": "stream",
     "text": [
      "dummification 하기전에 57개의 변수가 train에 있었습니다.\n",
      "dummification 한 후에 109개의 변수가 train에 있습니다.\n"
     ]
    }
   ],
   "source": [
    "v= meta[(meta.level == 'nominal') & (meta.keep)].index\n",
    "print('dummification 하기전에 {}개의 변수가 train에 있었습니다.'.format(train.shape[1]))\n",
    "train= pd.get_dummies(train, columns= v, drop_first= True)\n",
    "print('dummification 한 후에 {}개의 변수가 train에 있습니다.'.format(train.shape[1]))"
   ]
  },
  {
   "cell_type": "markdown",
   "id": "d815dfe1",
   "metadata": {},
   "source": [
    "# 7-2 interaction variables 생성"
   ]
  },
  {
   "cell_type": "code",
   "execution_count": 48,
   "id": "7408db0d",
   "metadata": {},
   "outputs": [
    {
     "name": "stdout",
     "output_type": "stream",
     "text": [
      "interaction 변수를 생성하기 전엔 train 데이터엔 109개의 변수가 존재했습니다.\n",
      "interaction 변수를 생성한 후엔 train 데이터엔 164개의 변수가 존재합니다.\n"
     ]
    }
   ],
   "source": [
    "v= meta[(meta.level == 'interval') & (meta.keep)].index\n",
    "poly= PolynomialFeatures(degree= 2, interaction_only= False, include_bias= False)\n",
    "interactions= pd.DataFrame(data= poly.fit_transform(train[v]),\n",
    "                           columns= poly.get_feature_names(v))\n",
    "\n",
    "interactions.drop(v, axis= 1, inplace= True) # Poly 처리가 되지 않은 기존의 열들을 삭제\n",
    "\n",
    "# interactions와 train 데이터를 합침\n",
    "print('interaction 변수를 생성하기 전엔 train 데이터엔 {}개의 변수가 존재했습니다.'.format(train.shape[1]))\n",
    "train= pd.concat([train, interactions], axis= 1)\n",
    "print('interaction 변수를 생성한 후엔 train 데이터엔 {}개의 변수가 존재합니다.'.format(train.shape[1]))"
   ]
  },
  {
   "cell_type": "markdown",
   "id": "ae7854a4",
   "metadata": {},
   "source": [
    "PolynomialFeatures는 다항차수 변환을 진행을 도와주는 클래스입니다.  \n",
    "상기 코드의 경우 degree을 2로 설정했으니 2차항 변수로 만들어주는 것입니다.  \n",
    "\n",
    "<br>\n",
    "\n",
    "이를 통해 train 데이터에 interaction variables를 추가할 수 있습니다. **get_feature_names** 메소드 덕분에 열 이름을 할당할 수 있습니다."
   ]
  },
  {
   "cell_type": "markdown",
   "id": "33400406",
   "metadata": {},
   "source": [
    "# 8. Feature selection\n",
    "## 8_1. 낮은 variance를 가진 features를 지우기\n",
    "\n",
    "작성자는 분류기의 알고리즘이 유지할 feature를 선택하는 것을 선호한다고 합니다. 하지만 우리 스스로 할 수 있는 일도 있습니다.  \n",
    "분산이 0이거나 아주 적은 feature들을 제거하는 것입니다.  \n",
    "\n",
    "<br>\n",
    "\n",
    "이를 위해 사이킷런의 **VarianceThreshold**라는 메소드를 사용할 수 있습니다.  \n",
    "기본적으로 이 메소드는 분산 값이 0인 feature들을 제거해줍니다.  \n",
    "\n",
    "<br>\n",
    "\n",
    "하지만 저희는 이전 단계에서 이미 분산이 0인 feature가 없음을 확인했기 때문에, 우리는 1% 미만의 분산이 있는 feature들을 제거해주고자 합니다.  \n",
    "이를 통해 우리는 31개의 variable를 제거하게 됩니다."
   ]
  },
  {
   "cell_type": "code",
   "execution_count": 50,
   "id": "784200c5",
   "metadata": {},
   "outputs": [
    {
     "data": {
      "text/plain": [
       "VarianceThreshold(threshold=0.01)"
      ]
     },
     "execution_count": 50,
     "metadata": {},
     "output_type": "execute_result"
    }
   ],
   "source": [
    "selector= VarianceThreshold(threshold= .01)\n",
    "selector.fit(train.drop(['id', 'target'], axis= 1))  # id와 target을 뺀 값만 fit함"
   ]
  },
  {
   "cell_type": "code",
   "execution_count": 53,
   "id": "de0f3449",
   "metadata": {},
   "outputs": [
    {
     "name": "stdout",
     "output_type": "stream",
     "text": [
      "28개의 변수들은 너무 낮은 variance를 가지고 있습니다.\n",
      "이 변수들은 ['ps_ind_10_bin', 'ps_ind_11_bin', 'ps_ind_12_bin', 'ps_ind_13_bin', 'ps_car_12', 'ps_car_14', 'ps_car_11_cat_te', 'ps_ind_05_cat_2', 'ps_ind_05_cat_5', 'ps_car_01_cat_1', 'ps_car_01_cat_2', 'ps_car_04_cat_3', 'ps_car_04_cat_4', 'ps_car_04_cat_5', 'ps_car_04_cat_6', 'ps_car_04_cat_7', 'ps_car_06_cat_2', 'ps_car_06_cat_5', 'ps_car_06_cat_8', 'ps_car_06_cat_12', 'ps_car_06_cat_16', 'ps_car_06_cat_17', 'ps_car_09_cat_4', 'ps_car_10_cat_1', 'ps_car_10_cat_2', 'ps_car_12^2', 'ps_car_12 ps_car_14', 'ps_car_14^2'] 입니다.\n"
     ]
    }
   ],
   "source": [
    "f= np.vectorize(lambda x: not x) # Function to toggle boolean array elements\n",
    "v= train.drop(['id', 'target'], axis=1).columns[f(selector.get_support())]\n",
    "print('{}개의 변수들은 너무 낮은 variance를 가지고 있습니다.'.format(len(v)))\n",
    "print('이 변수들은 {} 입니다.'.format(list(v)))"
   ]
  },
  {
   "cell_type": "markdown",
   "id": "0d760434",
   "metadata": {},
   "source": [
    "만약 우리가 분산에 기반하여 선택을 진행한다면 많은 variables을 잃게 될 것입니다.  \n",
    "하지만 많은 variable을 가지고 있지 않기 때문에, 분류기가 직접 선택하도록 합니다.  \n",
    "variable가 더 많은 데이터 셋이라면 처리 시간을 줄여줄 수 있을 것입니다.  \n",
    "\n",
    "<br>\n",
    "\n",
    "사이킷런은 [feature selection methods]를 제공합니다.  \n",
    "이 메소드 중 하나가 'SelectFromModel'인데, 다른 분류기에서 최상의 feature를 선택하고 기능을 계속할 수 있도록 합니다.  \n",
    "아래를 통해 랜덤포레스트를 어떻게 사용하는지 확인해보도록 합니다."
   ]
  },
  {
   "cell_type": "markdown",
   "id": "af6a0c53",
   "metadata": {},
   "source": [
    "## 8_2. 랜덤포레스트와 SelectFromModel을 이용해 변수들을 선택하기\n",
    "우리는 랜덤 포레스트의 feature importances에 따라 feature 선택의 기준을 삼습니다.  \n",
    "SelectFromModel을 통하여 유지할 variables의 숫자를 구체화할 수 있습니다.  \n",
    "feature의 중요도에 대한 임계값을 수동으로 설정할 수 있지만, 우리는 단순히 50% 이상의 최적의 variable를 선택해보도록 합시다."
   ]
  },
  {
   "cell_type": "code",
   "execution_count": 56,
   "id": "2b6fda74",
   "metadata": {},
   "outputs": [
    {
     "name": "stdout",
     "output_type": "stream",
     "text": [
      " 1) ps_car_11_cat_te               0.021254\n",
      " 2) ps_car_13                      0.017323\n",
      " 3) ps_car_12 ps_car_13            0.017246\n",
      " 4) ps_car_13^2                    0.017208\n",
      " 5) ps_car_13 ps_car_14            0.017162\n",
      " 6) ps_reg_03 ps_car_13            0.017091\n",
      " 7) ps_reg_01 ps_car_13            0.016742\n",
      " 8) ps_car_13 ps_car_15            0.016722\n",
      " 9) ps_reg_03 ps_car_14            0.016256\n",
      "10) ps_reg_03 ps_car_12            0.015563\n",
      "11) ps_reg_03 ps_car_15            0.015180\n",
      "12) ps_car_14 ps_car_15            0.015050\n",
      "13) ps_car_13 ps_calc_01           0.014718\n",
      "14) ps_reg_01 ps_reg_03            0.014703\n",
      "15) ps_car_13 ps_calc_03           0.014694\n",
      "16) ps_car_13 ps_calc_02           0.014649\n",
      "17) ps_reg_02 ps_car_13            0.014583\n",
      "18) ps_reg_01 ps_car_14            0.014358\n",
      "19) ps_reg_03                      0.014293\n",
      "20) ps_reg_03^2                    0.014280\n",
      "21) ps_reg_03 ps_calc_03           0.013816\n",
      "22) ps_reg_03 ps_calc_02           0.013785\n",
      "23) ps_reg_03 ps_calc_01           0.013695\n",
      "24) ps_calc_10                     0.013643\n",
      "25) ps_car_14 ps_calc_02           0.013626\n",
      "26) ps_car_14 ps_calc_03           0.013519\n",
      "27) ps_car_14 ps_calc_01           0.013477\n",
      "28) ps_calc_14                     0.013398\n",
      "29) ps_car_12 ps_car_14            0.012943\n",
      "30) ps_ind_03                      0.012943\n",
      "31) ps_car_14^2                    0.012819\n",
      "32) ps_car_14                      0.012757\n",
      "33) ps_reg_02 ps_car_14            0.012726\n",
      "34) ps_calc_11                     0.012639\n",
      "35) ps_reg_02 ps_reg_03            0.012527\n",
      "36) ps_ind_15                      0.012109\n",
      "37) ps_car_12 ps_car_15            0.010922\n",
      "38) ps_car_15 ps_calc_03           0.010872\n",
      "39) ps_car_15 ps_calc_02           0.010866\n",
      "40) ps_car_15 ps_calc_01           0.010844\n",
      "41) ps_calc_13                     0.010519\n",
      "42) ps_car_12 ps_calc_01           0.010423\n",
      "43) ps_car_12 ps_calc_03           0.010380\n",
      "44) ps_car_12 ps_calc_02           0.010300\n",
      "45) ps_reg_01 ps_car_15            0.010218\n",
      "46) ps_reg_02 ps_car_15            0.010174\n",
      "47) ps_calc_01 ps_calc_03          0.010068\n",
      "48) ps_calc_02 ps_calc_03          0.010032\n",
      "49) ps_calc_01 ps_calc_02          0.009998\n",
      "50) ps_calc_08                     0.009813\n",
      "51) ps_calc_07                     0.009791\n",
      "52) ps_reg_01 ps_car_12            0.009432\n",
      "53) ps_reg_02 ps_car_12            0.009294\n",
      "54) ps_reg_02 ps_calc_03           0.009241\n",
      "55) ps_reg_02 ps_calc_01           0.009226\n",
      "56) ps_reg_02 ps_calc_02           0.009210\n",
      "57) ps_calc_06                     0.009080\n",
      "58) ps_reg_01 ps_calc_03           0.009061\n",
      "59) ps_reg_01 ps_calc_01           0.009054\n",
      "60) ps_reg_01 ps_calc_02           0.009045\n",
      "61) ps_calc_09                     0.008822\n",
      "62) ps_ind_01                      0.008597\n",
      "63) ps_calc_05                     0.008307\n",
      "64) ps_calc_04                     0.008126\n",
      "65) ps_reg_01 ps_reg_02            0.008022\n",
      "66) ps_calc_12                     0.008008\n",
      "67) ps_car_15                      0.006173\n",
      "68) ps_car_15^2                    0.006131\n",
      "69) ps_calc_03                     0.005998\n",
      "70) ps_calc_01^2                   0.005981\n",
      "71) ps_calc_03^2                   0.005980\n",
      "72) ps_calc_01                     0.005971\n",
      "73) ps_calc_02                     0.005964\n",
      "74) ps_calc_02^2                   0.005940\n",
      "75) ps_car_12                      0.005356\n",
      "76) ps_car_12^2                    0.005353\n",
      "77) ps_reg_02^2                    0.004969\n",
      "78) ps_reg_02                      0.004944\n",
      "79) ps_reg_01                      0.004164\n",
      "80) ps_reg_01^2                    0.004163\n",
      "81) ps_car_11                      0.003773\n",
      "82) ps_ind_05_cat_0                0.003574\n",
      "83) ps_ind_17_bin                  0.002829\n",
      "84) ps_calc_17_bin                 0.002671\n",
      "85) ps_calc_16_bin                 0.002589\n",
      "86) ps_calc_19_bin                 0.002583\n",
      "87) ps_calc_18_bin                 0.002478\n",
      "88) ps_ind_16_bin                  0.002410\n",
      "89) ps_car_01_cat_11               0.002384\n",
      "90) ps_ind_04_cat_1                0.002379\n",
      "91) ps_ind_04_cat_0                0.002370\n",
      "92) ps_ind_07_bin                  0.002319\n",
      "93) ps_car_09_cat_2                0.002312\n",
      "94) ps_ind_02_cat_1                0.002282\n",
      "95) ps_car_01_cat_7                0.002111\n",
      "96) ps_car_09_cat_0                0.002088\n",
      "97) ps_ind_02_cat_2                0.002085\n",
      "98) ps_calc_20_bin                 0.002083\n",
      "99) ps_ind_06_bin                  0.002055\n",
      "100) ps_car_06_cat_1                0.002010\n",
      "101) ps_calc_15_bin                 0.001983\n",
      "102) ps_car_07_cat_1                0.001968\n",
      "103) ps_ind_08_bin                  0.001948\n",
      "104) ps_car_09_cat_1                0.001818\n",
      "105) ps_car_06_cat_11               0.001796\n",
      "106) ps_ind_18_bin                  0.001727\n",
      "107) ps_ind_09_bin                  0.001707\n",
      "108) ps_car_01_cat_10               0.001596\n",
      "109) ps_car_01_cat_9                0.001588\n",
      "110) ps_car_06_cat_14               0.001559\n",
      "111) ps_car_01_cat_6                0.001544\n",
      "112) ps_car_01_cat_4                0.001540\n",
      "113) ps_ind_05_cat_6                0.001526\n",
      "114) ps_ind_02_cat_3                0.001431\n",
      "115) ps_car_07_cat_0                0.001367\n",
      "116) ps_car_08_cat_1                0.001336\n",
      "117) ps_car_02_cat_1                0.001331\n",
      "118) ps_car_01_cat_8                0.001319\n",
      "119) ps_car_02_cat_0                0.001308\n",
      "120) ps_car_06_cat_4                0.001236\n",
      "121) ps_ind_05_cat_4                0.001211\n",
      "122) ps_ind_02_cat_4                0.001167\n",
      "123) ps_car_01_cat_5                0.001141\n",
      "124) ps_car_06_cat_6                0.001104\n",
      "125) ps_car_06_cat_10               0.001063\n",
      "126) ps_ind_05_cat_2                0.001030\n",
      "127) ps_car_04_cat_1                0.001029\n",
      "128) ps_car_04_cat_2                0.000995\n",
      "129) ps_car_06_cat_7                0.000995\n",
      "130) ps_car_01_cat_3                0.000902\n",
      "131) ps_car_01_cat_0                0.000882\n",
      "132) ps_car_09_cat_3                0.000872\n",
      "133) ps_ind_14                      0.000862\n",
      "134) ps_car_06_cat_15               0.000850\n",
      "135) ps_car_06_cat_9                0.000776\n",
      "136) ps_ind_05_cat_1                0.000761\n",
      "137) ps_car_10_cat_1                0.000709\n",
      "138) ps_car_06_cat_3                0.000698\n",
      "139) ps_ind_12_bin                  0.000685\n",
      "140) ps_ind_05_cat_3                0.000664\n",
      "141) ps_car_09_cat_4                0.000627\n",
      "142) ps_car_01_cat_2                0.000564\n",
      "143) ps_car_04_cat_8                0.000544\n",
      "144) ps_car_06_cat_17               0.000522\n",
      "145) ps_car_06_cat_16               0.000470\n",
      "146) ps_car_04_cat_9                0.000437\n",
      "147) ps_car_06_cat_12               0.000430\n",
      "148) ps_car_06_cat_13               0.000394\n",
      "149) ps_car_01_cat_1                0.000383\n",
      "150) ps_ind_05_cat_5                0.000310\n",
      "151) ps_car_06_cat_5                0.000282\n",
      "152) ps_ind_11_bin                  0.000212\n",
      "153) ps_car_04_cat_6                0.000203\n",
      "154) ps_car_04_cat_3                0.000148\n",
      "155) ps_ind_13_bin                  0.000143\n",
      "156) ps_car_06_cat_2                0.000137\n",
      "157) ps_car_06_cat_8                0.000099\n",
      "158) ps_car_04_cat_5                0.000097\n",
      "159) ps_car_04_cat_7                0.000084\n",
      "160) ps_ind_10_bin                  0.000072\n",
      "161) ps_car_10_cat_2                0.000059\n",
      "162) ps_car_04_cat_4                0.000042\n"
     ]
    }
   ],
   "source": [
    "X_train= train.drop(['id','target'], axis=1)\n",
    "y_train= train['target']\n",
    "\n",
    "feat_labels= X_train.columns\n",
    "\n",
    "rf= RandomForestClassifier(n_estimators=1000, random_state=0, n_jobs=-1)\n",
    "\n",
    "rf.fit(X_train, y_train)\n",
    "importances= rf.feature_importances_\n",
    "\n",
    "indices= np.argsort(rf.feature_importances_)[::-1]\n",
    "\n",
    "for f in range(X_train.shape[1]):\n",
    "    print('%2d) %-*s %f' % (f+1, 30, feat_labels[indices[f]], importances[indices[f]]))"
   ]
  },
  {
   "cell_type": "code",
   "execution_count": 57,
   "id": "05fe1df2",
   "metadata": {},
   "outputs": [
    {
     "name": "stdout",
     "output_type": "stream",
     "text": [
      "Feature selection을 하기전의 feature의 갯수: 162\n",
      "Feature selection을 한 후의 feature의 갯수: 81\n"
     ]
    }
   ],
   "source": [
    "sfm= SelectFromModel(rf, threshold= 'median', prefit=True)\n",
    "print('Feature selection을 하기전의 feature의 갯수: {}'.format(X_train.shape[1]))\n",
    "n_features= sfm.transform(X_train).shape[1]\n",
    "print('Feature selection을 한 후의 feature의 갯수: {}'.format(n_features))\n",
    "selected_vars= list(feat_labels[sfm.get_support()])"
   ]
  },
  {
   "cell_type": "code",
   "execution_count": 58,
   "id": "a44874cd",
   "metadata": {},
   "outputs": [],
   "source": [
    "train= train[selected_vars + ['target']]"
   ]
  },
  {
   "cell_type": "markdown",
   "id": "a47cb8b6",
   "metadata": {},
   "source": [
    "# 9. Feature scaling\n",
    "이전에 언급했듯이, 우리는 train 데이터에 정규화를 진행할 수 있습니다.  \n",
    "몇몇 분류기에서는 더 나은 결과를 가져올 수 있을 것입니다."
   ]
  },
  {
   "cell_type": "code",
   "execution_count": 59,
   "id": "9a85b22d",
   "metadata": {},
   "outputs": [
    {
     "data": {
      "text/plain": [
       "array([[-0.45941104, -1.26665356,  1.05087653, ..., -0.72553616,\n",
       "        -1.01071913, -1.06173767],\n",
       "       [ 1.55538958,  0.95034274, -0.63847299, ..., -1.06120876,\n",
       "        -1.01071913,  0.27907892],\n",
       "       [ 1.05168943, -0.52765479, -0.92003125, ...,  1.95984463,\n",
       "        -0.56215309, -1.02449277],\n",
       "       ...,\n",
       "       [-0.9631112 ,  0.58084336,  0.48776003, ..., -0.46445747,\n",
       "         0.18545696,  0.27907892],\n",
       "       [-0.9631112 , -0.89715418, -1.48314775, ..., -0.91202093,\n",
       "        -0.41263108,  0.27907892],\n",
       "       [-0.45941104, -1.26665356,  1.61399304, ...,  0.28148164,\n",
       "        -0.11358706, -0.72653353]])"
      ]
     },
     "execution_count": 59,
     "metadata": {},
     "output_type": "execute_result"
    }
   ],
   "source": [
    "scaler= StandardScaler()\n",
    "scaler.fit_transform(train.drop(['target'], axis=1))"
   ]
  },
  {
   "cell_type": "markdown",
   "id": "6941e663",
   "metadata": {},
   "source": [
    "출처: \n",
    "[Bert Carremans 캐글 커널](https://www.kaggle.com/bertcarremans/data-preparation-exploration)"
   ]
  }
 ],
 "metadata": {
  "kernelspec": {
   "display_name": "Python 3",
   "language": "python",
   "name": "python3"
  },
  "language_info": {
   "codemirror_mode": {
    "name": "ipython",
    "version": 3
   },
   "file_extension": ".py",
   "mimetype": "text/x-python",
   "name": "python",
   "nbconvert_exporter": "python",
   "pygments_lexer": "ipython3",
   "version": "3.8.8"
  },
  "toc": {
   "base_numbering": 1,
   "nav_menu": {},
   "number_sections": false,
   "sideBar": true,
   "skip_h1_title": false,
   "title_cell": "Table of Contents",
   "title_sidebar": "Contents",
   "toc_cell": false,
   "toc_position": {
    "height": "calc(100% - 180px)",
    "left": "10px",
    "top": "150px",
    "width": "384px"
   },
   "toc_section_display": true,
   "toc_window_display": true
  },
  "varInspector": {
   "cols": {
    "lenName": 16,
    "lenType": 16,
    "lenVar": 40
   },
   "kernels_config": {
    "python": {
     "delete_cmd_postfix": "",
     "delete_cmd_prefix": "del ",
     "library": "var_list.py",
     "varRefreshCmd": "print(var_dic_list())"
    },
    "r": {
     "delete_cmd_postfix": ") ",
     "delete_cmd_prefix": "rm(",
     "library": "var_list.r",
     "varRefreshCmd": "cat(var_dic_list()) "
    }
   },
   "types_to_exclude": [
    "module",
    "function",
    "builtin_function_or_method",
    "instance",
    "_Feature"
   ],
   "window_display": false
  }
 },
 "nbformat": 4,
 "nbformat_minor": 5
}
